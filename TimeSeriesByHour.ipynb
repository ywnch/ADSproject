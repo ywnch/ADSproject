{
 "cells": [
  {
   "cell_type": "code",
   "execution_count": 2,
   "metadata": {},
   "outputs": [
    {
     "name": "stdout",
     "output_type": "stream",
     "text": [
      "Populating the interactive namespace from numpy and matplotlib\n"
     ]
    }
   ],
   "source": [
    "import pandas as pd\n",
    "import pylab as pl\n",
    "import numpy as np\n",
    "import seaborn as sns\n",
    "%pylab inline"
   ]
  },
  {
   "cell_type": "code",
   "execution_count": 3,
   "metadata": {},
   "outputs": [
    {
     "data": {
      "text/html": [
       "<div>\n",
       "<style>\n",
       "    .dataframe thead tr:only-child th {\n",
       "        text-align: right;\n",
       "    }\n",
       "\n",
       "    .dataframe thead th {\n",
       "        text-align: left;\n",
       "    }\n",
       "\n",
       "    .dataframe tbody tr th {\n",
       "        vertical-align: top;\n",
       "    }\n",
       "</style>\n",
       "<table border=\"1\" class=\"dataframe\">\n",
       "  <thead>\n",
       "    <tr style=\"text-align: right;\">\n",
       "      <th></th>\n",
       "      <th>tripduration</th>\n",
       "      <th>starttime</th>\n",
       "      <th>stoptime</th>\n",
       "      <th>start station id</th>\n",
       "      <th>start station name</th>\n",
       "      <th>start station latitude</th>\n",
       "      <th>start station longitude</th>\n",
       "      <th>end station id</th>\n",
       "      <th>end station name</th>\n",
       "      <th>end station latitude</th>\n",
       "      <th>...</th>\n",
       "      <th>usertype</th>\n",
       "      <th>birth year</th>\n",
       "      <th>gender</th>\n",
       "      <th>startdate</th>\n",
       "      <th>stopdate</th>\n",
       "      <th>Event_type</th>\n",
       "      <th>End_Time</th>\n",
       "      <th>weekday</th>\n",
       "      <th>O_date</th>\n",
       "      <th>O_hour</th>\n",
       "    </tr>\n",
       "  </thead>\n",
       "  <tbody>\n",
       "    <tr>\n",
       "      <th>0</th>\n",
       "      <td>173</td>\n",
       "      <td>16:03:10</td>\n",
       "      <td>16:06:03</td>\n",
       "      <td>243</td>\n",
       "      <td>Fulton St &amp; Rockwell Pl</td>\n",
       "      <td>40.688226</td>\n",
       "      <td>-73.979382</td>\n",
       "      <td>241</td>\n",
       "      <td>DeKalb Ave &amp; S Portland Ave</td>\n",
       "      <td>40.68981</td>\n",
       "      <td>...</td>\n",
       "      <td>Subscriber</td>\n",
       "      <td>1971.0</td>\n",
       "      <td>2</td>\n",
       "      <td>2016-01-01</td>\n",
       "      <td>2016-01-01</td>\n",
       "      <td>no-event</td>\n",
       "      <td>NaN</td>\n",
       "      <td>NaN</td>\n",
       "      <td>2016-01-01</td>\n",
       "      <td>16</td>\n",
       "    </tr>\n",
       "  </tbody>\n",
       "</table>\n",
       "<p>1 rows × 22 columns</p>\n",
       "</div>"
      ],
      "text/plain": [
       "   tripduration starttime  stoptime  start station id  \\\n",
       "0           173  16:03:10  16:06:03               243   \n",
       "\n",
       "        start station name  start station latitude  start station longitude  \\\n",
       "0  Fulton St & Rockwell Pl               40.688226               -73.979382   \n",
       "\n",
       "   end station id             end station name  end station latitude  ...    \\\n",
       "0             241  DeKalb Ave & S Portland Ave              40.68981  ...     \n",
       "\n",
       "     usertype  birth year gender   startdate    stopdate Event_type End_Time  \\\n",
       "0  Subscriber      1971.0      2  2016-01-01  2016-01-01   no-event      NaN   \n",
       "\n",
       "  weekday      O_date O_hour  \n",
       "0     NaN  2016-01-01     16  \n",
       "\n",
       "[1 rows x 22 columns]"
      ]
     },
     "execution_count": 3,
     "metadata": {},
     "output_type": "execute_result"
    }
   ],
   "source": [
    "df = pd.read_csv('JoinedEvent2_CB2016_subset_800m.csv')\n",
    "df.drop('Unnamed: 0',axis=1,inplace=True)\n",
    "df.head(1)"
   ]
  },
  {
   "cell_type": "code",
   "execution_count": 4,
   "metadata": {},
   "outputs": [
    {
     "data": {
      "text/html": [
       "<div>\n",
       "<style>\n",
       "    .dataframe thead tr:only-child th {\n",
       "        text-align: right;\n",
       "    }\n",
       "\n",
       "    .dataframe thead th {\n",
       "        text-align: left;\n",
       "    }\n",
       "\n",
       "    .dataframe tbody tr th {\n",
       "        vertical-align: top;\n",
       "    }\n",
       "</style>\n",
       "<table border=\"1\" class=\"dataframe\">\n",
       "  <thead>\n",
       "    <tr style=\"text-align: right;\">\n",
       "      <th></th>\n",
       "      <th>O_date</th>\n",
       "      <th>Event_type</th>\n",
       "      <th>O_hour</th>\n",
       "      <th>Count</th>\n",
       "    </tr>\n",
       "  </thead>\n",
       "  <tbody>\n",
       "    <tr>\n",
       "      <th>0</th>\n",
       "      <td>2016-01-01</td>\n",
       "      <td>no-event</td>\n",
       "      <td>16</td>\n",
       "      <td>8</td>\n",
       "    </tr>\n",
       "    <tr>\n",
       "      <th>1</th>\n",
       "      <td>2016-01-01</td>\n",
       "      <td>no-event</td>\n",
       "      <td>17</td>\n",
       "      <td>7</td>\n",
       "    </tr>\n",
       "    <tr>\n",
       "      <th>2</th>\n",
       "      <td>2016-01-01</td>\n",
       "      <td>no-event</td>\n",
       "      <td>18</td>\n",
       "      <td>4</td>\n",
       "    </tr>\n",
       "    <tr>\n",
       "      <th>3</th>\n",
       "      <td>2016-01-01</td>\n",
       "      <td>no-event</td>\n",
       "      <td>19</td>\n",
       "      <td>2</td>\n",
       "    </tr>\n",
       "    <tr>\n",
       "      <th>4</th>\n",
       "      <td>2016-01-01</td>\n",
       "      <td>no-event</td>\n",
       "      <td>20</td>\n",
       "      <td>2</td>\n",
       "    </tr>\n",
       "  </tbody>\n",
       "</table>\n",
       "</div>"
      ],
      "text/plain": [
       "       O_date Event_type  O_hour  Count\n",
       "0  2016-01-01   no-event      16      8\n",
       "1  2016-01-01   no-event      17      7\n",
       "2  2016-01-01   no-event      18      4\n",
       "3  2016-01-01   no-event      19      2\n",
       "4  2016-01-01   no-event      20      2"
      ]
     },
     "execution_count": 4,
     "metadata": {},
     "output_type": "execute_result"
    }
   ],
   "source": [
    "d = pd.DataFrame(df.groupby(['O_date','Event_type','O_hour'],as_index=False).size())\n",
    "d.reset_index(inplace=True)\n",
    "d.columns = ['O_date','Event_type','O_hour','Count']\n",
    "d.head()"
   ]
  },
  {
   "cell_type": "code",
   "execution_count": 5,
   "metadata": {},
   "outputs": [],
   "source": [
    "d['month'] = pd.to_datetime(d['O_date']).dt.month"
   ]
  },
  {
   "cell_type": "code",
   "execution_count": 6,
   "metadata": {},
   "outputs": [
    {
     "data": {
      "text/html": [
       "<div>\n",
       "<style>\n",
       "    .dataframe thead tr:only-child th {\n",
       "        text-align: right;\n",
       "    }\n",
       "\n",
       "    .dataframe thead th {\n",
       "        text-align: left;\n",
       "    }\n",
       "\n",
       "    .dataframe tbody tr th {\n",
       "        vertical-align: top;\n",
       "    }\n",
       "</style>\n",
       "<table border=\"1\" class=\"dataframe\">\n",
       "  <thead>\n",
       "    <tr style=\"text-align: right;\">\n",
       "      <th></th>\n",
       "      <th>O_date</th>\n",
       "      <th>Event_type</th>\n",
       "      <th>O_hour</th>\n",
       "      <th>Count</th>\n",
       "      <th>month</th>\n",
       "    </tr>\n",
       "  </thead>\n",
       "  <tbody>\n",
       "    <tr>\n",
       "      <th>0</th>\n",
       "      <td>2016-01-01</td>\n",
       "      <td>no-event</td>\n",
       "      <td>16</td>\n",
       "      <td>8</td>\n",
       "      <td>1</td>\n",
       "    </tr>\n",
       "    <tr>\n",
       "      <th>1</th>\n",
       "      <td>2016-01-01</td>\n",
       "      <td>no-event</td>\n",
       "      <td>17</td>\n",
       "      <td>7</td>\n",
       "      <td>1</td>\n",
       "    </tr>\n",
       "    <tr>\n",
       "      <th>2</th>\n",
       "      <td>2016-01-01</td>\n",
       "      <td>no-event</td>\n",
       "      <td>18</td>\n",
       "      <td>4</td>\n",
       "      <td>1</td>\n",
       "    </tr>\n",
       "    <tr>\n",
       "      <th>3</th>\n",
       "      <td>2016-01-01</td>\n",
       "      <td>no-event</td>\n",
       "      <td>19</td>\n",
       "      <td>2</td>\n",
       "      <td>1</td>\n",
       "    </tr>\n",
       "    <tr>\n",
       "      <th>4</th>\n",
       "      <td>2016-01-01</td>\n",
       "      <td>no-event</td>\n",
       "      <td>20</td>\n",
       "      <td>2</td>\n",
       "      <td>1</td>\n",
       "    </tr>\n",
       "  </tbody>\n",
       "</table>\n",
       "</div>"
      ],
      "text/plain": [
       "       O_date Event_type  O_hour  Count  month\n",
       "0  2016-01-01   no-event      16      8      1\n",
       "1  2016-01-01   no-event      17      7      1\n",
       "2  2016-01-01   no-event      18      4      1\n",
       "3  2016-01-01   no-event      19      2      1\n",
       "4  2016-01-01   no-event      20      2      1"
      ]
     },
     "execution_count": 6,
     "metadata": {},
     "output_type": "execute_result"
    }
   ],
   "source": [
    "d.head()"
   ]
  },
  {
   "cell_type": "code",
   "execution_count": 34,
   "metadata": {},
   "outputs": [
    {
     "data": {
      "text/html": [
       "<div>\n",
       "<style>\n",
       "    .dataframe thead tr:only-child th {\n",
       "        text-align: right;\n",
       "    }\n",
       "\n",
       "    .dataframe thead th {\n",
       "        text-align: left;\n",
       "    }\n",
       "\n",
       "    .dataframe tbody tr th {\n",
       "        vertical-align: top;\n",
       "    }\n",
       "</style>\n",
       "<table border=\"1\" class=\"dataframe\">\n",
       "  <thead>\n",
       "    <tr style=\"text-align: right;\">\n",
       "      <th></th>\n",
       "      <th>O_hour</th>\n",
       "      <th>Count</th>\n",
       "    </tr>\n",
       "    <tr>\n",
       "      <th>month</th>\n",
       "      <th></th>\n",
       "      <th></th>\n",
       "    </tr>\n",
       "  </thead>\n",
       "  <tbody>\n",
       "    <tr>\n",
       "      <th>3</th>\n",
       "      <td>19.5</td>\n",
       "      <td>12.375000</td>\n",
       "    </tr>\n",
       "    <tr>\n",
       "      <th>9</th>\n",
       "      <td>19.5</td>\n",
       "      <td>58.875000</td>\n",
       "    </tr>\n",
       "    <tr>\n",
       "      <th>10</th>\n",
       "      <td>19.5</td>\n",
       "      <td>39.857143</td>\n",
       "    </tr>\n",
       "    <tr>\n",
       "      <th>11</th>\n",
       "      <td>19.5</td>\n",
       "      <td>40.718750</td>\n",
       "    </tr>\n",
       "    <tr>\n",
       "      <th>12</th>\n",
       "      <td>19.5</td>\n",
       "      <td>22.265625</td>\n",
       "    </tr>\n",
       "  </tbody>\n",
       "</table>\n",
       "</div>"
      ],
      "text/plain": [
       "       O_hour      Count\n",
       "month                   \n",
       "3        19.5  12.375000\n",
       "9        19.5  58.875000\n",
       "10       19.5  39.857143\n",
       "11       19.5  40.718750\n",
       "12       19.5  22.265625"
      ]
     },
     "execution_count": 34,
     "metadata": {},
     "output_type": "execute_result"
    }
   ],
   "source": [
    "d[d['Event_type']=='hockey'].groupby('month').mean()"
   ]
  },
  {
   "cell_type": "code",
   "execution_count": 18,
   "metadata": {},
   "outputs": [
    {
     "data": {
      "text/html": [
       "<div>\n",
       "<style>\n",
       "    .dataframe thead tr:only-child th {\n",
       "        text-align: right;\n",
       "    }\n",
       "\n",
       "    .dataframe thead th {\n",
       "        text-align: left;\n",
       "    }\n",
       "\n",
       "    .dataframe tbody tr th {\n",
       "        vertical-align: top;\n",
       "    }\n",
       "</style>\n",
       "<table border=\"1\" class=\"dataframe\">\n",
       "  <thead>\n",
       "    <tr style=\"text-align: right;\">\n",
       "      <th></th>\n",
       "      <th>Event_type</th>\n",
       "      <th>O_hour</th>\n",
       "      <th>Count</th>\n",
       "      <th>month</th>\n",
       "    </tr>\n",
       "  </thead>\n",
       "  <tbody>\n",
       "    <tr>\n",
       "      <th>0</th>\n",
       "      <td>basketball</td>\n",
       "      <td>16</td>\n",
       "      <td>19.916667</td>\n",
       "      <td>6.333333</td>\n",
       "    </tr>\n",
       "    <tr>\n",
       "      <th>1</th>\n",
       "      <td>basketball</td>\n",
       "      <td>17</td>\n",
       "      <td>23.877551</td>\n",
       "      <td>6.244898</td>\n",
       "    </tr>\n",
       "    <tr>\n",
       "      <th>2</th>\n",
       "      <td>basketball</td>\n",
       "      <td>18</td>\n",
       "      <td>32.530612</td>\n",
       "      <td>6.244898</td>\n",
       "    </tr>\n",
       "    <tr>\n",
       "      <th>3</th>\n",
       "      <td>basketball</td>\n",
       "      <td>19</td>\n",
       "      <td>25.448980</td>\n",
       "      <td>6.244898</td>\n",
       "    </tr>\n",
       "    <tr>\n",
       "      <th>4</th>\n",
       "      <td>basketball</td>\n",
       "      <td>20</td>\n",
       "      <td>19.795918</td>\n",
       "      <td>6.244898</td>\n",
       "    </tr>\n",
       "  </tbody>\n",
       "</table>\n",
       "</div>"
      ],
      "text/plain": [
       "   Event_type  O_hour      Count     month\n",
       "0  basketball      16  19.916667  6.333333\n",
       "1  basketball      17  23.877551  6.244898\n",
       "2  basketball      18  32.530612  6.244898\n",
       "3  basketball      19  25.448980  6.244898\n",
       "4  basketball      20  19.795918  6.244898"
      ]
     },
     "execution_count": 18,
     "metadata": {},
     "output_type": "execute_result"
    }
   ],
   "source": [
    "m = pd.DataFrame(d.groupby(['Event_type','O_hour']).mean())\n",
    "m.reset_index(inplace=True)\n",
    "m.head()"
   ]
  },
  {
   "cell_type": "code",
   "execution_count": 21,
   "metadata": {},
   "outputs": [
    {
     "data": {
      "image/png": "[encoded data removed]",
      "text/plain": [
       "<matplotlib.figure.Figure at 0x1175a0e10>"
      ]
     },
     "metadata": {},
     "output_type": "display_data"
    }
   ],
   "source": [
    "pl.figure(figsize=(10,6))\n",
    "sns.set(style=\"darkgrid\")\n",
    "#titanic = sns.load_dataset(\"titanic\")\n",
    "#ax = sns.barplot(x=\"Month\", y='Count',hue='Type',data=e)\n",
    "for i in m['Event_type'].unique():\n",
    "    if i == 'other':\n",
    "        break\n",
    "    #sns.barplot(x=\"O_hour\", y='Count',data=m[m['Event_type']==i])\n",
    "    pl.plot(m[m['Event_type']==i]['O_hour'],m[m['Event_type']==i]['Count'],'o-',label=i)\n",
    "pl.legend()\n",
    "pl.xlabel('Hour',size=15)\n",
    "pl.ylabel('Number of Trip',size=15)\n",
    "pl.title('Average Trip Counts from 16 pm to 23 pm on 2016',size=15)\n",
    "pl.savefig('AvgTripHour_2016.png',dpi=300)"
   ]
  },
  {
   "cell_type": "code",
   "execution_count": null,
   "metadata": {},
   "outputs": [],
   "source": []
  },
  {
   "cell_type": "code",
   "execution_count": 22,
   "metadata": {},
   "outputs": [
    {
     "data": {
      "text/html": [
       "<div>\n",
       "<style>\n",
       "    .dataframe thead tr:only-child th {\n",
       "        text-align: right;\n",
       "    }\n",
       "\n",
       "    .dataframe thead th {\n",
       "        text-align: left;\n",
       "    }\n",
       "\n",
       "    .dataframe tbody tr th {\n",
       "        vertical-align: top;\n",
       "    }\n",
       "</style>\n",
       "<table border=\"1\" class=\"dataframe\">\n",
       "  <thead>\n",
       "    <tr style=\"text-align: right;\">\n",
       "      <th></th>\n",
       "      <th>tripduration</th>\n",
       "      <th>starttime</th>\n",
       "      <th>stoptime</th>\n",
       "      <th>start station id</th>\n",
       "      <th>start station name</th>\n",
       "      <th>start station latitude</th>\n",
       "      <th>start station longitude</th>\n",
       "      <th>end station id</th>\n",
       "      <th>end station name</th>\n",
       "      <th>end station latitude</th>\n",
       "      <th>...</th>\n",
       "      <th>usertype</th>\n",
       "      <th>birth year</th>\n",
       "      <th>gender</th>\n",
       "      <th>startdate</th>\n",
       "      <th>stopdate</th>\n",
       "      <th>Event_type</th>\n",
       "      <th>End_Time</th>\n",
       "      <th>weekday</th>\n",
       "      <th>O_date</th>\n",
       "      <th>O_hour</th>\n",
       "    </tr>\n",
       "  </thead>\n",
       "  <tbody>\n",
       "    <tr>\n",
       "      <th>0</th>\n",
       "      <td>173</td>\n",
       "      <td>16:03:10</td>\n",
       "      <td>16:06:03</td>\n",
       "      <td>243</td>\n",
       "      <td>Fulton St &amp; Rockwell Pl</td>\n",
       "      <td>40.688226</td>\n",
       "      <td>-73.979382</td>\n",
       "      <td>241</td>\n",
       "      <td>DeKalb Ave &amp; S Portland Ave</td>\n",
       "      <td>40.689810</td>\n",
       "      <td>...</td>\n",
       "      <td>Subscriber</td>\n",
       "      <td>1971.0</td>\n",
       "      <td>2</td>\n",
       "      <td>2016-01-01</td>\n",
       "      <td>2016-01-01</td>\n",
       "      <td>no-event</td>\n",
       "      <td>NaN</td>\n",
       "      <td>NaN</td>\n",
       "      <td>2016-01-01</td>\n",
       "      <td>16</td>\n",
       "    </tr>\n",
       "    <tr>\n",
       "      <th>1</th>\n",
       "      <td>136</td>\n",
       "      <td>16:05:54</td>\n",
       "      <td>16:08:11</td>\n",
       "      <td>420</td>\n",
       "      <td>Clermont Ave &amp; Lafayette Ave</td>\n",
       "      <td>40.687645</td>\n",
       "      <td>-73.969689</td>\n",
       "      <td>270</td>\n",
       "      <td>Adelphi St &amp; Myrtle Ave</td>\n",
       "      <td>40.693083</td>\n",
       "      <td>...</td>\n",
       "      <td>Subscriber</td>\n",
       "      <td>1980.0</td>\n",
       "      <td>1</td>\n",
       "      <td>2016-01-01</td>\n",
       "      <td>2016-01-01</td>\n",
       "      <td>no-event</td>\n",
       "      <td>NaN</td>\n",
       "      <td>NaN</td>\n",
       "      <td>2016-01-01</td>\n",
       "      <td>16</td>\n",
       "    </tr>\n",
       "    <tr>\n",
       "      <th>2</th>\n",
       "      <td>653</td>\n",
       "      <td>16:13:47</td>\n",
       "      <td>16:24:40</td>\n",
       "      <td>83</td>\n",
       "      <td>Atlantic Ave &amp; Fort Greene Pl</td>\n",
       "      <td>40.683826</td>\n",
       "      <td>-73.976323</td>\n",
       "      <td>278</td>\n",
       "      <td>Concord St &amp; Bridge St</td>\n",
       "      <td>40.697666</td>\n",
       "      <td>...</td>\n",
       "      <td>Subscriber</td>\n",
       "      <td>1976.0</td>\n",
       "      <td>1</td>\n",
       "      <td>2016-01-01</td>\n",
       "      <td>2016-01-01</td>\n",
       "      <td>no-event</td>\n",
       "      <td>NaN</td>\n",
       "      <td>NaN</td>\n",
       "      <td>2016-01-01</td>\n",
       "      <td>16</td>\n",
       "    </tr>\n",
       "    <tr>\n",
       "      <th>3</th>\n",
       "      <td>659</td>\n",
       "      <td>16:13:47</td>\n",
       "      <td>16:24:46</td>\n",
       "      <td>83</td>\n",
       "      <td>Atlantic Ave &amp; Fort Greene Pl</td>\n",
       "      <td>40.683826</td>\n",
       "      <td>-73.976323</td>\n",
       "      <td>278</td>\n",
       "      <td>Concord St &amp; Bridge St</td>\n",
       "      <td>40.697666</td>\n",
       "      <td>...</td>\n",
       "      <td>Subscriber</td>\n",
       "      <td>1985.0</td>\n",
       "      <td>2</td>\n",
       "      <td>2016-01-01</td>\n",
       "      <td>2016-01-01</td>\n",
       "      <td>no-event</td>\n",
       "      <td>NaN</td>\n",
       "      <td>NaN</td>\n",
       "      <td>2016-01-01</td>\n",
       "      <td>16</td>\n",
       "    </tr>\n",
       "    <tr>\n",
       "      <th>4</th>\n",
       "      <td>1419</td>\n",
       "      <td>16:20:39</td>\n",
       "      <td>16:44:19</td>\n",
       "      <td>83</td>\n",
       "      <td>Atlantic Ave &amp; Fort Greene Pl</td>\n",
       "      <td>40.683826</td>\n",
       "      <td>-73.976323</td>\n",
       "      <td>532</td>\n",
       "      <td>S 5 Pl &amp; S 4 St</td>\n",
       "      <td>40.710451</td>\n",
       "      <td>...</td>\n",
       "      <td>Subscriber</td>\n",
       "      <td>1993.0</td>\n",
       "      <td>1</td>\n",
       "      <td>2016-01-01</td>\n",
       "      <td>2016-01-01</td>\n",
       "      <td>no-event</td>\n",
       "      <td>NaN</td>\n",
       "      <td>NaN</td>\n",
       "      <td>2016-01-01</td>\n",
       "      <td>16</td>\n",
       "    </tr>\n",
       "  </tbody>\n",
       "</table>\n",
       "<p>5 rows × 22 columns</p>\n",
       "</div>"
      ],
      "text/plain": [
       "   tripduration starttime  stoptime  start station id  \\\n",
       "0           173  16:03:10  16:06:03               243   \n",
       "1           136  16:05:54  16:08:11               420   \n",
       "2           653  16:13:47  16:24:40                83   \n",
       "3           659  16:13:47  16:24:46                83   \n",
       "4          1419  16:20:39  16:44:19                83   \n",
       "\n",
       "              start station name  start station latitude  \\\n",
       "0        Fulton St & Rockwell Pl               40.688226   \n",
       "1   Clermont Ave & Lafayette Ave               40.687645   \n",
       "2  Atlantic Ave & Fort Greene Pl               40.683826   \n",
       "3  Atlantic Ave & Fort Greene Pl               40.683826   \n",
       "4  Atlantic Ave & Fort Greene Pl               40.683826   \n",
       "\n",
       "   start station longitude  end station id             end station name  \\\n",
       "0               -73.979382             241  DeKalb Ave & S Portland Ave   \n",
       "1               -73.969689             270      Adelphi St & Myrtle Ave   \n",
       "2               -73.976323             278       Concord St & Bridge St   \n",
       "3               -73.976323             278       Concord St & Bridge St   \n",
       "4               -73.976323             532              S 5 Pl & S 4 St   \n",
       "\n",
       "   end station latitude  ...      usertype  birth year gender   startdate  \\\n",
       "0             40.689810  ...    Subscriber      1971.0      2  2016-01-01   \n",
       "1             40.693083  ...    Subscriber      1980.0      1  2016-01-01   \n",
       "2             40.697666  ...    Subscriber      1976.0      1  2016-01-01   \n",
       "3             40.697666  ...    Subscriber      1985.0      2  2016-01-01   \n",
       "4             40.710451  ...    Subscriber      1993.0      1  2016-01-01   \n",
       "\n",
       "     stopdate Event_type End_Time weekday      O_date O_hour  \n",
       "0  2016-01-01   no-event      NaN     NaN  2016-01-01     16  \n",
       "1  2016-01-01   no-event      NaN     NaN  2016-01-01     16  \n",
       "2  2016-01-01   no-event      NaN     NaN  2016-01-01     16  \n",
       "3  2016-01-01   no-event      NaN     NaN  2016-01-01     16  \n",
       "4  2016-01-01   no-event      NaN     NaN  2016-01-01     16  \n",
       "\n",
       "[5 rows x 22 columns]"
      ]
     },
     "execution_count": 22,
     "metadata": {},
     "output_type": "execute_result"
    }
   ],
   "source": [
    "df.head()"
   ]
  },
  {
   "cell_type": "code",
   "execution_count": 23,
   "metadata": {},
   "outputs": [],
   "source": [
    "df = df[df['O_hour']>18]"
   ]
  },
  {
   "cell_type": "code",
   "execution_count": 34,
   "metadata": {},
   "outputs": [],
   "source": [
    "tem = df[['O_date','Event_type']]"
   ]
  },
  {
   "cell_type": "code",
   "execution_count": 49,
   "metadata": {},
   "outputs": [],
   "source": [
    "d_bydate = pd.DataFrame(df.groupby(['O_date','start station id']).size())\n",
    "d_bydate.reset_index(inplace=True)"
   ]
  },
  {
   "cell_type": "code",
   "execution_count": 50,
   "metadata": {},
   "outputs": [
    {
     "data": {
      "text/html": [
       "<div>\n",
       "<style>\n",
       "    .dataframe thead tr:only-child th {\n",
       "        text-align: right;\n",
       "    }\n",
       "\n",
       "    .dataframe thead th {\n",
       "        text-align: left;\n",
       "    }\n",
       "\n",
       "    .dataframe tbody tr th {\n",
       "        vertical-align: top;\n",
       "    }\n",
       "</style>\n",
       "<table border=\"1\" class=\"dataframe\">\n",
       "  <thead>\n",
       "    <tr style=\"text-align: right;\">\n",
       "      <th></th>\n",
       "      <th>O_date</th>\n",
       "      <th>start station id</th>\n",
       "      <th>0</th>\n",
       "    </tr>\n",
       "  </thead>\n",
       "  <tbody>\n",
       "    <tr>\n",
       "      <th>0</th>\n",
       "      <td>2016-01-01</td>\n",
       "      <td>83</td>\n",
       "      <td>1</td>\n",
       "    </tr>\n",
       "    <tr>\n",
       "      <th>1</th>\n",
       "      <td>2016-01-01</td>\n",
       "      <td>243</td>\n",
       "      <td>1</td>\n",
       "    </tr>\n",
       "    <tr>\n",
       "      <th>2</th>\n",
       "      <td>2016-01-01</td>\n",
       "      <td>274</td>\n",
       "      <td>1</td>\n",
       "    </tr>\n",
       "    <tr>\n",
       "      <th>3</th>\n",
       "      <td>2016-01-01</td>\n",
       "      <td>353</td>\n",
       "      <td>1</td>\n",
       "    </tr>\n",
       "    <tr>\n",
       "      <th>4</th>\n",
       "      <td>2016-01-01</td>\n",
       "      <td>397</td>\n",
       "      <td>2</td>\n",
       "    </tr>\n",
       "  </tbody>\n",
       "</table>\n",
       "</div>"
      ],
      "text/plain": [
       "       O_date  start station id  0\n",
       "0  2016-01-01                83  1\n",
       "1  2016-01-01               243  1\n",
       "2  2016-01-01               274  1\n",
       "3  2016-01-01               353  1\n",
       "4  2016-01-01               397  2"
      ]
     },
     "execution_count": 50,
     "metadata": {},
     "output_type": "execute_result"
    }
   ],
   "source": [
    "d_bydate.head()"
   ]
  },
  {
   "cell_type": "code",
   "execution_count": 44,
   "metadata": {},
   "outputs": [
    {
     "data": {
      "text/plain": [
       "362"
      ]
     },
     "execution_count": 44,
     "metadata": {},
     "output_type": "execute_result"
    }
   ],
   "source": [
    "len(d_bydate.O_date.unique())"
   ]
  },
  {
   "cell_type": "code",
   "execution_count": 51,
   "metadata": {},
   "outputs": [
    {
     "data": {
      "text/plain": [
       "20"
      ]
     },
     "execution_count": 51,
     "metadata": {},
     "output_type": "execute_result"
    }
   ],
   "source": [
    "len(d_bydate['start station id'].unique())"
   ]
  },
  {
   "cell_type": "code",
   "execution_count": 58,
   "metadata": {},
   "outputs": [],
   "source": [
    "stat = d_bydate['start station id'].unique()\n",
    "dat = d_bydate.O_date.unique()"
   ]
  },
  {
   "cell_type": "code",
   "execution_count": 59,
   "metadata": {},
   "outputs": [],
   "source": [
    "M = np.zeros([20,362])"
   ]
  },
  {
   "cell_type": "code",
   "execution_count": 74,
   "metadata": {},
   "outputs": [
    {
     "data": {
      "text/plain": [
       "array([[ 1.,  2.,  5., ...,  0.,  0.,  0.],\n",
       "       [ 0.,  0.,  0., ...,  0.,  0.,  0.],\n",
       "       [ 0.,  0.,  0., ...,  0.,  0.,  0.],\n",
       "       ..., \n",
       "       [ 0.,  0.,  0., ...,  0.,  0.,  0.],\n",
       "       [ 0.,  0.,  0., ...,  0.,  0.,  0.],\n",
       "       [ 0.,  0.,  0., ...,  0.,  0.,  0.]])"
      ]
     },
     "execution_count": 74,
     "metadata": {},
     "output_type": "execute_result"
    }
   ],
   "source": [
    "M"
   ]
  },
  {
   "cell_type": "code",
   "execution_count": 69,
   "metadata": {},
   "outputs": [
    {
     "data": {
      "text/plain": [
       "1"
      ]
     },
     "execution_count": 69,
     "metadata": {},
     "output_type": "execute_result"
    }
   ],
   "source": [
    "d_bydate[(d_bydate['O_date'] == '2016-01-01') & (d_bydate['start station id'] == 83)][0].values[0]"
   ]
  },
  {
   "cell_type": "code",
   "execution_count": null,
   "metadata": {},
   "outputs": [],
   "source": []
  },
  {
   "cell_type": "code",
   "execution_count": 76,
   "metadata": {},
   "outputs": [
    {
     "name": "stdout",
     "output_type": "stream",
     "text": [
      "1\n",
      "(0, 83, 0, '2016-01-01')\n",
      "2\n",
      "(0, 83, 1, '2016-01-02')\n",
      "5\n",
      "(0, 83, 2, '2016-01-03')\n",
      "4\n",
      "(0, 83, 3, '2016-01-04')\n",
      "4\n",
      "(0, 83, 4, '2016-01-05')\n",
      "5\n",
      "(0, 83, 5, '2016-01-06')\n",
      "9\n",
      "(0, 83, 6, '2016-01-07')\n",
      "7\n",
      "(0, 83, 7, '2016-01-08')\n",
      "3\n",
      "(0, 83, 8, '2016-01-09')\n",
      "4\n",
      "(0, 83, 9, '2016-01-10')\n",
      "4\n",
      "(0, 83, 10, '2016-01-11')\n",
      "8\n",
      "(0, 83, 11, '2016-01-12')\n",
      "10\n",
      "(0, 83, 12, '2016-01-13')\n",
      "14\n",
      "(0, 83, 13, '2016-01-14')\n",
      "5\n",
      "(0, 83, 14, '2016-01-15')\n",
      "6\n",
      "(0, 83, 15, '2016-01-16')\n",
      "3\n",
      "(0, 83, 16, '2016-01-17')\n",
      "1\n",
      "(0, 83, 17, '2016-01-18')\n",
      "2\n",
      "(0, 83, 18, '2016-01-19')\n",
      "5\n",
      "(0, 83, 19, '2016-01-20')\n",
      "5\n",
      "(0, 83, 20, '2016-01-21')\n",
      "6\n",
      "(0, 83, 21, '2016-01-22')\n",
      "1\n",
      "(0, 83, 22, '2016-01-27')\n",
      "6\n",
      "(0, 83, 23, '2016-01-28')\n",
      "4\n",
      "(0, 83, 24, '2016-01-29')\n",
      "3\n",
      "(0, 83, 25, '2016-01-30')\n",
      "1\n",
      "(0, 83, 26, '2016-01-31')\n",
      "8\n",
      "(0, 83, 27, '2016-02-01')\n",
      "10\n",
      "(0, 83, 28, '2016-02-02')\n",
      "7\n",
      "(0, 83, 29, '2016-02-03')\n",
      "6\n",
      "(0, 83, 30, '2016-02-04')\n",
      "6\n",
      "(0, 83, 31, '2016-02-05')\n",
      "3\n",
      "(0, 83, 32, '2016-02-06')\n",
      "7\n",
      "(0, 83, 33, '2016-02-07')\n",
      "15\n",
      "(0, 83, 34, '2016-02-08')\n",
      "4\n",
      "(0, 83, 35, '2016-02-09')\n",
      "5\n",
      "(0, 83, 36, '2016-02-10')\n",
      "3\n",
      "(0, 83, 37, '2016-02-11')\n",
      "7\n",
      "(0, 83, 38, '2016-02-12')\n",
      "1\n",
      "(0, 83, 39, '2016-02-13')\n",
      "1\n",
      "(0, 83, 40, '2016-02-14')\n",
      "1\n",
      "(0, 83, 41, '2016-02-15')\n",
      "4\n",
      "(0, 83, 42, '2016-02-16')\n",
      "3\n",
      "(0, 83, 43, '2016-02-17')\n",
      "8\n",
      "(0, 83, 44, '2016-02-18')\n",
      "6\n",
      "(0, 83, 45, '2016-02-19')\n",
      "8\n",
      "(0, 83, 46, '2016-02-20')\n",
      "1\n",
      "(0, 83, 47, '2016-02-21')\n",
      "3\n",
      "(0, 83, 48, '2016-02-22')\n",
      "4\n",
      "(0, 83, 49, '2016-02-23')\n",
      "2\n",
      "(0, 83, 50, '2016-02-24')\n",
      "2\n",
      "(0, 83, 51, '2016-02-25')\n",
      "1\n",
      "(0, 83, 52, '2016-02-26')\n",
      "6\n",
      "(0, 83, 53, '2016-02-27')\n",
      "3\n",
      "(0, 83, 54, '2016-02-28')\n",
      "5\n",
      "(0, 83, 55, '2016-02-29')\n",
      "6\n",
      "(0, 83, 56, '2016-03-01')\n"
     ]
    },
    {
     "ename": "IndexError",
     "evalue": "index 0 is out of bounds for axis 0 with size 0",
     "output_type": "error",
     "traceback": [
      "\u001b[0;31m---------------------------------------------------------------------------\u001b[0m",
      "\u001b[0;31mIndexError\u001b[0m                                Traceback (most recent call last)",
      "\u001b[0;32m<ipython-input-76-264c26651ce7>\u001b[0m in \u001b[0;36m<module>\u001b[0;34m()\u001b[0m\n\u001b[1;32m      5\u001b[0m \u001b[0;34m\u001b[0m\u001b[0m\n\u001b[1;32m      6\u001b[0m         \u001b[0;31m#M[i][j] =\u001b[0m\u001b[0;34m\u001b[0m\u001b[0;34m\u001b[0m\u001b[0m\n\u001b[0;32m----> 7\u001b[0;31m         \u001b[0;32mprint\u001b[0m\u001b[0;34m(\u001b[0m\u001b[0md_bydate\u001b[0m\u001b[0;34m[\u001b[0m\u001b[0;34m(\u001b[0m\u001b[0md_bydate\u001b[0m\u001b[0;34m[\u001b[0m\u001b[0;34m'O_date'\u001b[0m\u001b[0;34m]\u001b[0m \u001b[0;34m==\u001b[0m \u001b[0md\u001b[0m\u001b[0;34m)\u001b[0m \u001b[0;34m&\u001b[0m \u001b[0;34m(\u001b[0m\u001b[0md_bydate\u001b[0m\u001b[0;34m[\u001b[0m\u001b[0;34m'start station id'\u001b[0m\u001b[0;34m]\u001b[0m \u001b[0;34m==\u001b[0m \u001b[0ms\u001b[0m\u001b[0;34m)\u001b[0m\u001b[0;34m]\u001b[0m\u001b[0;34m[\u001b[0m\u001b[0;36m0\u001b[0m\u001b[0;34m]\u001b[0m\u001b[0;34m.\u001b[0m\u001b[0mvalues\u001b[0m\u001b[0;34m[\u001b[0m\u001b[0;36m0\u001b[0m\u001b[0;34m]\u001b[0m\u001b[0;34m)\u001b[0m\u001b[0;34m\u001b[0m\u001b[0m\n\u001b[0m\u001b[1;32m      8\u001b[0m         \u001b[0;32mprint\u001b[0m\u001b[0;34m(\u001b[0m\u001b[0mi\u001b[0m\u001b[0;34m,\u001b[0m\u001b[0ms\u001b[0m\u001b[0;34m,\u001b[0m\u001b[0mj\u001b[0m\u001b[0;34m,\u001b[0m\u001b[0md\u001b[0m\u001b[0;34m)\u001b[0m\u001b[0;34m\u001b[0m\u001b[0m\n",
      "\u001b[0;31mIndexError\u001b[0m: index 0 is out of bounds for axis 0 with size 0"
     ]
    }
   ],
   "source": [
    "for i in range(20):\n",
    "    for j in range(362):\n",
    "        d = dat[j]\n",
    "        s = stat[i]\n",
    "        \n",
    "        #M[i][j] = \n",
    "        print(d_bydate[(d_bydate['O_date'] == d) & (d_bydate['start station id'] == s)][0].values[0])\n",
    "        print(i,s,j,d)"
   ]
  },
  {
   "cell_type": "code",
   "execution_count": null,
   "metadata": {},
   "outputs": [],
   "source": []
  },
  {
   "cell_type": "code",
   "execution_count": null,
   "metadata": {},
   "outputs": [],
   "source": []
  },
  {
   "cell_type": "code",
   "execution_count": null,
   "metadata": {},
   "outputs": [],
   "source": []
  },
  {
   "cell_type": "code",
   "execution_count": null,
   "metadata": {},
   "outputs": [],
   "source": []
  },
  {
   "cell_type": "code",
   "execution_count": 35,
   "metadata": {},
   "outputs": [
    {
     "data": {
      "text/html": [
       "<div>\n",
       "<style>\n",
       "    .dataframe thead tr:only-child th {\n",
       "        text-align: right;\n",
       "    }\n",
       "\n",
       "    .dataframe thead th {\n",
       "        text-align: left;\n",
       "    }\n",
       "\n",
       "    .dataframe tbody tr th {\n",
       "        vertical-align: top;\n",
       "    }\n",
       "</style>\n",
       "<table border=\"1\" class=\"dataframe\">\n",
       "  <thead>\n",
       "    <tr style=\"text-align: right;\">\n",
       "      <th></th>\n",
       "      <th>O_date</th>\n",
       "      <th>Event_type</th>\n",
       "    </tr>\n",
       "  </thead>\n",
       "  <tbody>\n",
       "    <tr>\n",
       "      <th>19</th>\n",
       "      <td>2016-01-01</td>\n",
       "      <td>no-event</td>\n",
       "    </tr>\n",
       "    <tr>\n",
       "      <th>20</th>\n",
       "      <td>2016-01-01</td>\n",
       "      <td>no-event</td>\n",
       "    </tr>\n",
       "    <tr>\n",
       "      <th>21</th>\n",
       "      <td>2016-01-01</td>\n",
       "      <td>no-event</td>\n",
       "    </tr>\n",
       "    <tr>\n",
       "      <th>22</th>\n",
       "      <td>2016-01-01</td>\n",
       "      <td>no-event</td>\n",
       "    </tr>\n",
       "    <tr>\n",
       "      <th>23</th>\n",
       "      <td>2016-01-01</td>\n",
       "      <td>no-event</td>\n",
       "    </tr>\n",
       "  </tbody>\n",
       "</table>\n",
       "</div>"
      ],
      "text/plain": [
       "        O_date Event_type\n",
       "19  2016-01-01   no-event\n",
       "20  2016-01-01   no-event\n",
       "21  2016-01-01   no-event\n",
       "22  2016-01-01   no-event\n",
       "23  2016-01-01   no-event"
      ]
     },
     "execution_count": 35,
     "metadata": {},
     "output_type": "execute_result"
    }
   ],
   "source": [
    "tem.head()"
   ]
  },
  {
   "cell_type": "code",
   "execution_count": 40,
   "metadata": {},
   "outputs": [],
   "source": [
    "d_bydate = d_bydate.merge(tem,on='O_date',how='left').drop_duplicates()"
   ]
  },
  {
   "cell_type": "code",
   "execution_count": null,
   "metadata": {},
   "outputs": [],
   "source": []
  },
  {
   "cell_type": "code",
   "execution_count": null,
   "metadata": {},
   "outputs": [],
   "source": []
  },
  {
   "cell_type": "code",
   "execution_count": null,
   "metadata": {},
   "outputs": [],
   "source": []
  },
  {
   "cell_type": "code",
   "execution_count": null,
   "metadata": {},
   "outputs": [],
   "source": []
  },
  {
   "cell_type": "code",
   "execution_count": null,
   "metadata": {},
   "outputs": [],
   "source": []
  },
  {
   "cell_type": "code",
   "execution_count": 83,
   "metadata": {},
   "outputs": [
    {
     "data": {
      "text/plain": [
       "<matplotlib.text.Text at 0x1181aac50>"
      ]
     },
     "execution_count": 83,
     "metadata": {},
     "output_type": "execute_result"
    },
    {
     "data": {
      "image/png": "[encoded data removed]",
      "text/plain": [
       "<matplotlib.figure.Figure at 0x11836a390>"
      ]
     },
     "metadata": {},
     "output_type": "display_data"
    }
   ],
   "source": [
    "pl.figure(figsize=(10,6))\n",
    "sns.set(style=\"darkgrid\")\n",
    "#titanic = sns.load_dataset(\"titanic\")\n",
    "#ax = sns.barplot(x=\"Month\", y='Count',hue='Type',data=e)\n",
    "#for i in m['Event_type'].unique():\n",
    "#    if i == 'other':\n",
    "#        break\n",
    "    #sns.barplot(x=\"O_hour\", y='Count',data=m[m['Event_type']==i])\n",
    "#    pl.plot(m[m['Event_type']==i]['O_hour'],m[m['Event_type']==i]['Count'],'o-',label=i)\n",
    "Xl = ['Jan','Feb','Mar','Apr','May','Jun','Jul','Aug','Sep','Oct','Nov','Dec']\n",
    "X = range(12)\n",
    "Y = [2653, 2765, 4848, 5643, 6471, 8330, 7257, 9131, 16417, 16179, 12619, 8353]\n",
    "pl.bar(X,Y)\n",
    "#pl.legend()\n",
    "pl.xticks(arange(12), ('Jan','Feb','Mar','Apr','May','Jun','Jul','Aug','Sep','Oct','Nov','Dec') )\n",
    "pl.xlabel('Month',size=15)\n",
    "pl.ylabel('Number of Trip',size=15)\n",
    "pl.title('2016 Trip Counts Sample by 1000 ',size=15)\n",
    "#pl.savefig('AvgTripHour_2016.png',dpi=300)"
   ]
  },
  {
   "cell_type": "code",
   "execution_count": null,
   "metadata": {},
   "outputs": [],
   "source": []
  }
 ],
 "metadata": {
  "kernelspec": {
   "display_name": "Python 2",
   "language": "python",
   "name": "python2"
  },
  "language_info": {
   "codemirror_mode": {
    "name": "ipython",
    "version": 2
   },
   "file_extension": ".py",
   "mimetype": "text/x-python",
   "name": "python",
   "nbconvert_exporter": "python",
   "pygments_lexer": "ipython2",
   "version": "2.7.13"
  }
 },
 "nbformat": 4,
 "nbformat_minor": 2
}
