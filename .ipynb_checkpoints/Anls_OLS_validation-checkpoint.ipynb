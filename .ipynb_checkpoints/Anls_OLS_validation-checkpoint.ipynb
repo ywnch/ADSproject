{
 "cells": [
  {
   "cell_type": "markdown",
   "metadata": {},
   "source": [
    "# Data Analysis: Validate OLS regression model\n",
    "\n",
    "## This notebook:\n",
    "1. Splits training and testing datasets\n",
    "2. Validates the optimal model from ('Anls_OLS_weather')"
   ]
  },
  {
   "cell_type": "code",
   "execution_count": 31,
   "metadata": {},
   "outputs": [
    {
     "name": "stdout",
     "output_type": "stream",
     "text": [
      "Populating the interactive namespace from numpy and matplotlib\n"
     ]
    },
    {
     "name": "stderr",
     "output_type": "stream",
     "text": [
      "/Users/Yuwen/anaconda/lib/python3.6/site-packages/IPython/core/magics/pylab.py:161: UserWarning: pylab import has clobbered these variables: ['test']\n",
      "`%matplotlib` prevents importing * from pylab and numpy\n",
      "  \"\\n`%matplotlib` prevents importing * from pylab and numpy\"\n"
     ]
    }
   ],
   "source": [
    "import pylab as pl\n",
    "import pandas as pd\n",
    "import statsmodels.formula.api as smf\n",
    "from sklearn.model_selection import train_test_split\n",
    "\n",
    "%pylab inline"
   ]
  },
  {
   "cell_type": "markdown",
   "metadata": {},
   "source": [
    "# Split Train and Test datasets"
   ]
  },
  {
   "cell_type": "code",
   "execution_count": 2,
   "metadata": {
    "collapsed": true
   },
   "outputs": [],
   "source": [
    "d = pd.read_csv('merged3_final.csv')"
   ]
  },
  {
   "cell_type": "code",
   "execution_count": 3,
   "metadata": {},
   "outputs": [
    {
     "data": {
      "text/html": [
       "<div>\n",
       "<style>\n",
       "    .dataframe thead tr:only-child th {\n",
       "        text-align: right;\n",
       "    }\n",
       "\n",
       "    .dataframe thead th {\n",
       "        text-align: left;\n",
       "    }\n",
       "\n",
       "    .dataframe tbody tr th {\n",
       "        vertical-align: top;\n",
       "    }\n",
       "</style>\n",
       "<table border=\"1\" class=\"dataframe\">\n",
       "  <thead>\n",
       "    <tr style=\"text-align: right;\">\n",
       "      <th></th>\n",
       "      <th>Unnamed: 0</th>\n",
       "      <th>tripduration</th>\n",
       "      <th>starttime</th>\n",
       "      <th>stoptime</th>\n",
       "      <th>start station id</th>\n",
       "      <th>start station name</th>\n",
       "      <th>start station latitude</th>\n",
       "      <th>start station longitude</th>\n",
       "      <th>end station id</th>\n",
       "      <th>end station name</th>\n",
       "      <th>...</th>\n",
       "      <th>usertype</th>\n",
       "      <th>birth year</th>\n",
       "      <th>gender</th>\n",
       "      <th>startdate</th>\n",
       "      <th>stopdate</th>\n",
       "      <th>Event_type</th>\n",
       "      <th>End_Time</th>\n",
       "      <th>weekday</th>\n",
       "      <th>O_date</th>\n",
       "      <th>O_hour</th>\n",
       "    </tr>\n",
       "  </thead>\n",
       "  <tbody>\n",
       "    <tr>\n",
       "      <th>0</th>\n",
       "      <td>0</td>\n",
       "      <td>173</td>\n",
       "      <td>16:03:10</td>\n",
       "      <td>16:06:03</td>\n",
       "      <td>243</td>\n",
       "      <td>Fulton St &amp; Rockwell Pl</td>\n",
       "      <td>40.688226</td>\n",
       "      <td>-73.979382</td>\n",
       "      <td>241</td>\n",
       "      <td>DeKalb Ave &amp; S Portland Ave</td>\n",
       "      <td>...</td>\n",
       "      <td>Subscriber</td>\n",
       "      <td>1971.0</td>\n",
       "      <td>2</td>\n",
       "      <td>2016-01-01</td>\n",
       "      <td>2016-01-01</td>\n",
       "      <td>no-event</td>\n",
       "      <td>NaN</td>\n",
       "      <td>NaN</td>\n",
       "      <td>2016-01-01</td>\n",
       "      <td>16</td>\n",
       "    </tr>\n",
       "    <tr>\n",
       "      <th>1</th>\n",
       "      <td>1</td>\n",
       "      <td>136</td>\n",
       "      <td>16:05:54</td>\n",
       "      <td>16:08:11</td>\n",
       "      <td>420</td>\n",
       "      <td>Clermont Ave &amp; Lafayette Ave</td>\n",
       "      <td>40.687645</td>\n",
       "      <td>-73.969689</td>\n",
       "      <td>270</td>\n",
       "      <td>Adelphi St &amp; Myrtle Ave</td>\n",
       "      <td>...</td>\n",
       "      <td>Subscriber</td>\n",
       "      <td>1980.0</td>\n",
       "      <td>1</td>\n",
       "      <td>2016-01-01</td>\n",
       "      <td>2016-01-01</td>\n",
       "      <td>no-event</td>\n",
       "      <td>NaN</td>\n",
       "      <td>NaN</td>\n",
       "      <td>2016-01-01</td>\n",
       "      <td>16</td>\n",
       "    </tr>\n",
       "    <tr>\n",
       "      <th>2</th>\n",
       "      <td>2</td>\n",
       "      <td>653</td>\n",
       "      <td>16:13:47</td>\n",
       "      <td>16:24:40</td>\n",
       "      <td>83</td>\n",
       "      <td>Atlantic Ave &amp; Fort Greene Pl</td>\n",
       "      <td>40.683826</td>\n",
       "      <td>-73.976323</td>\n",
       "      <td>278</td>\n",
       "      <td>Concord St &amp; Bridge St</td>\n",
       "      <td>...</td>\n",
       "      <td>Subscriber</td>\n",
       "      <td>1976.0</td>\n",
       "      <td>1</td>\n",
       "      <td>2016-01-01</td>\n",
       "      <td>2016-01-01</td>\n",
       "      <td>no-event</td>\n",
       "      <td>NaN</td>\n",
       "      <td>NaN</td>\n",
       "      <td>2016-01-01</td>\n",
       "      <td>16</td>\n",
       "    </tr>\n",
       "    <tr>\n",
       "      <th>3</th>\n",
       "      <td>3</td>\n",
       "      <td>659</td>\n",
       "      <td>16:13:47</td>\n",
       "      <td>16:24:46</td>\n",
       "      <td>83</td>\n",
       "      <td>Atlantic Ave &amp; Fort Greene Pl</td>\n",
       "      <td>40.683826</td>\n",
       "      <td>-73.976323</td>\n",
       "      <td>278</td>\n",
       "      <td>Concord St &amp; Bridge St</td>\n",
       "      <td>...</td>\n",
       "      <td>Subscriber</td>\n",
       "      <td>1985.0</td>\n",
       "      <td>2</td>\n",
       "      <td>2016-01-01</td>\n",
       "      <td>2016-01-01</td>\n",
       "      <td>no-event</td>\n",
       "      <td>NaN</td>\n",
       "      <td>NaN</td>\n",
       "      <td>2016-01-01</td>\n",
       "      <td>16</td>\n",
       "    </tr>\n",
       "    <tr>\n",
       "      <th>4</th>\n",
       "      <td>4</td>\n",
       "      <td>1419</td>\n",
       "      <td>16:20:39</td>\n",
       "      <td>16:44:19</td>\n",
       "      <td>83</td>\n",
       "      <td>Atlantic Ave &amp; Fort Greene Pl</td>\n",
       "      <td>40.683826</td>\n",
       "      <td>-73.976323</td>\n",
       "      <td>532</td>\n",
       "      <td>S 5 Pl &amp; S 4 St</td>\n",
       "      <td>...</td>\n",
       "      <td>Subscriber</td>\n",
       "      <td>1993.0</td>\n",
       "      <td>1</td>\n",
       "      <td>2016-01-01</td>\n",
       "      <td>2016-01-01</td>\n",
       "      <td>no-event</td>\n",
       "      <td>NaN</td>\n",
       "      <td>NaN</td>\n",
       "      <td>2016-01-01</td>\n",
       "      <td>16</td>\n",
       "    </tr>\n",
       "  </tbody>\n",
       "</table>\n",
       "<p>5 rows × 23 columns</p>\n",
       "</div>"
      ],
      "text/plain": [
       "   Unnamed: 0  tripduration starttime  stoptime  start station id  \\\n",
       "0           0           173  16:03:10  16:06:03               243   \n",
       "1           1           136  16:05:54  16:08:11               420   \n",
       "2           2           653  16:13:47  16:24:40                83   \n",
       "3           3           659  16:13:47  16:24:46                83   \n",
       "4           4          1419  16:20:39  16:44:19                83   \n",
       "\n",
       "              start station name  start station latitude  \\\n",
       "0        Fulton St & Rockwell Pl               40.688226   \n",
       "1   Clermont Ave & Lafayette Ave               40.687645   \n",
       "2  Atlantic Ave & Fort Greene Pl               40.683826   \n",
       "3  Atlantic Ave & Fort Greene Pl               40.683826   \n",
       "4  Atlantic Ave & Fort Greene Pl               40.683826   \n",
       "\n",
       "   start station longitude  end station id             end station name  \\\n",
       "0               -73.979382             241  DeKalb Ave & S Portland Ave   \n",
       "1               -73.969689             270      Adelphi St & Myrtle Ave   \n",
       "2               -73.976323             278       Concord St & Bridge St   \n",
       "3               -73.976323             278       Concord St & Bridge St   \n",
       "4               -73.976323             532              S 5 Pl & S 4 St   \n",
       "\n",
       "   ...      usertype  birth year  gender   startdate    stopdate  Event_type  \\\n",
       "0  ...    Subscriber      1971.0       2  2016-01-01  2016-01-01    no-event   \n",
       "1  ...    Subscriber      1980.0       1  2016-01-01  2016-01-01    no-event   \n",
       "2  ...    Subscriber      1976.0       1  2016-01-01  2016-01-01    no-event   \n",
       "3  ...    Subscriber      1985.0       2  2016-01-01  2016-01-01    no-event   \n",
       "4  ...    Subscriber      1993.0       1  2016-01-01  2016-01-01    no-event   \n",
       "\n",
       "  End_Time weekday      O_date O_hour  \n",
       "0      NaN     NaN  2016-01-01     16  \n",
       "1      NaN     NaN  2016-01-01     16  \n",
       "2      NaN     NaN  2016-01-01     16  \n",
       "3      NaN     NaN  2016-01-01     16  \n",
       "4      NaN     NaN  2016-01-01     16  \n",
       "\n",
       "[5 rows x 23 columns]"
      ]
     },
     "execution_count": 3,
     "metadata": {},
     "output_type": "execute_result"
    }
   ],
   "source": [
    "data = pd.read_csv('merged2_event_CB2016_800m.csv')\n",
    "data.head()"
   ]
  },
  {
   "cell_type": "code",
   "execution_count": 4,
   "metadata": {},
   "outputs": [
    {
     "data": {
      "text/plain": [
       "60148"
      ]
     },
     "execution_count": 4,
     "metadata": {},
     "output_type": "execute_result"
    }
   ],
   "source": [
    "len(data)"
   ]
  },
  {
   "cell_type": "code",
   "execution_count": 5,
   "metadata": {
    "collapsed": true
   },
   "outputs": [],
   "source": [
    "stdate = data.O_date.unique()\n",
    "sthour = data.O_hour.unique()"
   ]
  },
  {
   "cell_type": "code",
   "execution_count": 7,
   "metadata": {
    "collapsed": true
   },
   "outputs": [],
   "source": [
    "train = pd.DataFrame()\n",
    "test = pd.DataFrame()"
   ]
  },
  {
   "cell_type": "code",
   "execution_count": 8,
   "metadata": {
    "collapsed": true
   },
   "outputs": [],
   "source": [
    "for i in stdate:\n",
    "    for j in sthour:\n",
    "        X_train, X_test = train_test_split(data[(data['O_date']==i)&(data['O_hour']==j)], \n",
    "                                           test_size = 0.3, random_state = 200)\n",
    "        train = pd.concat([train,X_train])\n",
    "        test = pd.concat([test,X_test])"
   ]
  },
  {
   "cell_type": "code",
   "execution_count": 9,
   "metadata": {},
   "outputs": [
    {
     "data": {
      "text/html": [
       "<div>\n",
       "<style>\n",
       "    .dataframe thead tr:only-child th {\n",
       "        text-align: right;\n",
       "    }\n",
       "\n",
       "    .dataframe thead th {\n",
       "        text-align: left;\n",
       "    }\n",
       "\n",
       "    .dataframe tbody tr th {\n",
       "        vertical-align: top;\n",
       "    }\n",
       "</style>\n",
       "<table border=\"1\" class=\"dataframe\">\n",
       "  <thead>\n",
       "    <tr style=\"text-align: right;\">\n",
       "      <th></th>\n",
       "      <th>Unnamed: 0</th>\n",
       "      <th>O_date</th>\n",
       "      <th>Event_type</th>\n",
       "      <th>O_hour</th>\n",
       "      <th>Count</th>\n",
       "      <th>date</th>\n",
       "      <th>temperature</th>\n",
       "      <th>precipitation</th>\n",
       "      <th>weekday</th>\n",
       "      <th>O_month</th>\n",
       "      <th>season</th>\n",
       "    </tr>\n",
       "  </thead>\n",
       "  <tbody>\n",
       "    <tr>\n",
       "      <th>0</th>\n",
       "      <td>0</td>\n",
       "      <td>2016-01-01</td>\n",
       "      <td>no-event</td>\n",
       "      <td>16</td>\n",
       "      <td>8</td>\n",
       "      <td>2016-01-01</td>\n",
       "      <td>38.0</td>\n",
       "      <td>0.0</td>\n",
       "      <td>True</td>\n",
       "      <td>1</td>\n",
       "      <td>1</td>\n",
       "    </tr>\n",
       "    <tr>\n",
       "      <th>1</th>\n",
       "      <td>1</td>\n",
       "      <td>2016-01-01</td>\n",
       "      <td>no-event</td>\n",
       "      <td>17</td>\n",
       "      <td>7</td>\n",
       "      <td>2016-01-01</td>\n",
       "      <td>38.0</td>\n",
       "      <td>0.0</td>\n",
       "      <td>True</td>\n",
       "      <td>1</td>\n",
       "      <td>1</td>\n",
       "    </tr>\n",
       "    <tr>\n",
       "      <th>2</th>\n",
       "      <td>2</td>\n",
       "      <td>2016-01-01</td>\n",
       "      <td>no-event</td>\n",
       "      <td>18</td>\n",
       "      <td>4</td>\n",
       "      <td>2016-01-01</td>\n",
       "      <td>38.0</td>\n",
       "      <td>0.0</td>\n",
       "      <td>True</td>\n",
       "      <td>1</td>\n",
       "      <td>1</td>\n",
       "    </tr>\n",
       "    <tr>\n",
       "      <th>3</th>\n",
       "      <td>3</td>\n",
       "      <td>2016-01-01</td>\n",
       "      <td>no-event</td>\n",
       "      <td>19</td>\n",
       "      <td>2</td>\n",
       "      <td>2016-01-01</td>\n",
       "      <td>38.0</td>\n",
       "      <td>0.0</td>\n",
       "      <td>True</td>\n",
       "      <td>1</td>\n",
       "      <td>1</td>\n",
       "    </tr>\n",
       "    <tr>\n",
       "      <th>4</th>\n",
       "      <td>4</td>\n",
       "      <td>2016-01-01</td>\n",
       "      <td>no-event</td>\n",
       "      <td>20</td>\n",
       "      <td>2</td>\n",
       "      <td>2016-01-01</td>\n",
       "      <td>38.0</td>\n",
       "      <td>0.0</td>\n",
       "      <td>True</td>\n",
       "      <td>1</td>\n",
       "      <td>1</td>\n",
       "    </tr>\n",
       "  </tbody>\n",
       "</table>\n",
       "</div>"
      ],
      "text/plain": [
       "   Unnamed: 0      O_date Event_type  O_hour  Count        date  temperature  \\\n",
       "0           0  2016-01-01   no-event      16      8  2016-01-01         38.0   \n",
       "1           1  2016-01-01   no-event      17      7  2016-01-01         38.0   \n",
       "2           2  2016-01-01   no-event      18      4  2016-01-01         38.0   \n",
       "3           3  2016-01-01   no-event      19      2  2016-01-01         38.0   \n",
       "4           4  2016-01-01   no-event      20      2  2016-01-01         38.0   \n",
       "\n",
       "   precipitation  weekday  O_month  season  \n",
       "0            0.0     True        1       1  \n",
       "1            0.0     True        1       1  \n",
       "2            0.0     True        1       1  \n",
       "3            0.0     True        1       1  \n",
       "4            0.0     True        1       1  "
      ]
     },
     "execution_count": 9,
     "metadata": {},
     "output_type": "execute_result"
    }
   ],
   "source": [
    "d.head()"
   ]
  },
  {
   "cell_type": "code",
   "execution_count": 36,
   "metadata": {
    "collapsed": true
   },
   "outputs": [],
   "source": [
    "train, test = train_test_split(d, test_size = 0.3, random_state = 200)"
   ]
  },
  {
   "cell_type": "code",
   "execution_count": 37,
   "metadata": {},
   "outputs": [
    {
     "data": {
      "text/plain": [
       "(2015, 864, 2879)"
      ]
     },
     "execution_count": 37,
     "metadata": {},
     "output_type": "execute_result"
    }
   ],
   "source": [
    "len(train), len(test), len(train) + len(test)"
   ]
  },
  {
   "cell_type": "code",
   "execution_count": 38,
   "metadata": {},
   "outputs": [
    {
     "data": {
      "text/html": [
       "<div>\n",
       "<style>\n",
       "    .dataframe thead tr:only-child th {\n",
       "        text-align: right;\n",
       "    }\n",
       "\n",
       "    .dataframe thead th {\n",
       "        text-align: left;\n",
       "    }\n",
       "\n",
       "    .dataframe tbody tr th {\n",
       "        vertical-align: top;\n",
       "    }\n",
       "</style>\n",
       "<table border=\"1\" class=\"dataframe\">\n",
       "  <thead>\n",
       "    <tr style=\"text-align: right;\">\n",
       "      <th></th>\n",
       "      <th>Unnamed: 0</th>\n",
       "      <th>O_date</th>\n",
       "      <th>Event_type</th>\n",
       "      <th>O_hour</th>\n",
       "      <th>Count</th>\n",
       "      <th>date</th>\n",
       "      <th>temperature</th>\n",
       "      <th>precipitation</th>\n",
       "      <th>weekday</th>\n",
       "      <th>O_month</th>\n",
       "      <th>season</th>\n",
       "    </tr>\n",
       "  </thead>\n",
       "  <tbody>\n",
       "    <tr>\n",
       "      <th>305</th>\n",
       "      <td>305</td>\n",
       "      <td>2016-02-12</td>\n",
       "      <td>other</td>\n",
       "      <td>23</td>\n",
       "      <td>5</td>\n",
       "      <td>2016-02-12</td>\n",
       "      <td>45.5</td>\n",
       "      <td>0.0</td>\n",
       "      <td>True</td>\n",
       "      <td>2</td>\n",
       "      <td>1</td>\n",
       "    </tr>\n",
       "  </tbody>\n",
       "</table>\n",
       "</div>"
      ],
      "text/plain": [
       "     Unnamed: 0      O_date Event_type  O_hour  Count        date  \\\n",
       "305         305  2016-02-12      other      23      5  2016-02-12   \n",
       "\n",
       "     temperature  precipitation  weekday  O_month  season  \n",
       "305         45.5            0.0     True        2       1  "
      ]
     },
     "execution_count": 38,
     "metadata": {},
     "output_type": "execute_result"
    }
   ],
   "source": [
    "train.head(1)"
   ]
  },
  {
   "cell_type": "code",
   "execution_count": 39,
   "metadata": {},
   "outputs": [
    {
     "data": {
      "text/html": [
       "<div>\n",
       "<style>\n",
       "    .dataframe thead tr:only-child th {\n",
       "        text-align: right;\n",
       "    }\n",
       "\n",
       "    .dataframe thead th {\n",
       "        text-align: left;\n",
       "    }\n",
       "\n",
       "    .dataframe tbody tr th {\n",
       "        vertical-align: top;\n",
       "    }\n",
       "</style>\n",
       "<table border=\"1\" class=\"dataframe\">\n",
       "  <thead>\n",
       "    <tr style=\"text-align: right;\">\n",
       "      <th></th>\n",
       "      <th>O_date</th>\n",
       "      <th>Event_type</th>\n",
       "      <th>O_hour</th>\n",
       "      <th>Count</th>\n",
       "    </tr>\n",
       "  </thead>\n",
       "  <tbody>\n",
       "    <tr>\n",
       "      <th>0</th>\n",
       "      <td>2016-01-01</td>\n",
       "      <td>no-event</td>\n",
       "      <td>16</td>\n",
       "      <td>1</td>\n",
       "    </tr>\n",
       "    <tr>\n",
       "      <th>1</th>\n",
       "      <td>2016-01-01</td>\n",
       "      <td>no-event</td>\n",
       "      <td>18</td>\n",
       "      <td>1</td>\n",
       "    </tr>\n",
       "    <tr>\n",
       "      <th>2</th>\n",
       "      <td>2016-01-01</td>\n",
       "      <td>no-event</td>\n",
       "      <td>21</td>\n",
       "      <td>1</td>\n",
       "    </tr>\n",
       "    <tr>\n",
       "      <th>3</th>\n",
       "      <td>2016-01-01</td>\n",
       "      <td>no-event</td>\n",
       "      <td>22</td>\n",
       "      <td>1</td>\n",
       "    </tr>\n",
       "    <tr>\n",
       "      <th>4</th>\n",
       "      <td>2016-01-01</td>\n",
       "      <td>no-event</td>\n",
       "      <td>23</td>\n",
       "      <td>1</td>\n",
       "    </tr>\n",
       "  </tbody>\n",
       "</table>\n",
       "</div>"
      ],
      "text/plain": [
       "       O_date Event_type  O_hour  Count\n",
       "0  2016-01-01   no-event      16      1\n",
       "1  2016-01-01   no-event      18      1\n",
       "2  2016-01-01   no-event      21      1\n",
       "3  2016-01-01   no-event      22      1\n",
       "4  2016-01-01   no-event      23      1"
      ]
     },
     "execution_count": 39,
     "metadata": {},
     "output_type": "execute_result"
    }
   ],
   "source": [
    "d_train = pd.DataFrame(train.groupby(['O_date','Event_type','O_hour'],as_index=False).size())\n",
    "d_train.reset_index(inplace=True)\n",
    "d_train.columns = ['O_date','Event_type','O_hour','Count']\n",
    "d_train.head()"
   ]
  },
  {
   "cell_type": "code",
   "execution_count": 40,
   "metadata": {},
   "outputs": [
    {
     "data": {
      "text/html": [
       "<div>\n",
       "<style>\n",
       "    .dataframe thead tr:only-child th {\n",
       "        text-align: right;\n",
       "    }\n",
       "\n",
       "    .dataframe thead th {\n",
       "        text-align: left;\n",
       "    }\n",
       "\n",
       "    .dataframe tbody tr th {\n",
       "        vertical-align: top;\n",
       "    }\n",
       "</style>\n",
       "<table border=\"1\" class=\"dataframe\">\n",
       "  <thead>\n",
       "    <tr style=\"text-align: right;\">\n",
       "      <th></th>\n",
       "      <th>O_date</th>\n",
       "      <th>Event_type</th>\n",
       "      <th>O_hour</th>\n",
       "      <th>Count</th>\n",
       "    </tr>\n",
       "  </thead>\n",
       "  <tbody>\n",
       "    <tr>\n",
       "      <th>0</th>\n",
       "      <td>2016-01-01</td>\n",
       "      <td>no-event</td>\n",
       "      <td>17</td>\n",
       "      <td>1</td>\n",
       "    </tr>\n",
       "    <tr>\n",
       "      <th>1</th>\n",
       "      <td>2016-01-01</td>\n",
       "      <td>no-event</td>\n",
       "      <td>19</td>\n",
       "      <td>1</td>\n",
       "    </tr>\n",
       "    <tr>\n",
       "      <th>2</th>\n",
       "      <td>2016-01-01</td>\n",
       "      <td>no-event</td>\n",
       "      <td>20</td>\n",
       "      <td>1</td>\n",
       "    </tr>\n",
       "    <tr>\n",
       "      <th>3</th>\n",
       "      <td>2016-01-02</td>\n",
       "      <td>basketball</td>\n",
       "      <td>16</td>\n",
       "      <td>1</td>\n",
       "    </tr>\n",
       "    <tr>\n",
       "      <th>4</th>\n",
       "      <td>2016-01-02</td>\n",
       "      <td>basketball</td>\n",
       "      <td>18</td>\n",
       "      <td>1</td>\n",
       "    </tr>\n",
       "  </tbody>\n",
       "</table>\n",
       "</div>"
      ],
      "text/plain": [
       "       O_date  Event_type  O_hour  Count\n",
       "0  2016-01-01    no-event      17      1\n",
       "1  2016-01-01    no-event      19      1\n",
       "2  2016-01-01    no-event      20      1\n",
       "3  2016-01-02  basketball      16      1\n",
       "4  2016-01-02  basketball      18      1"
      ]
     },
     "execution_count": 40,
     "metadata": {},
     "output_type": "execute_result"
    }
   ],
   "source": [
    "d_test = pd.DataFrame(test.groupby(['O_date','Event_type','O_hour'],as_index=False).size())\n",
    "d_test.reset_index(inplace=True)\n",
    "d_test.columns = ['O_date','Event_type','O_hour','Count']\n",
    "d_test.head()"
   ]
  },
  {
   "cell_type": "code",
   "execution_count": 41,
   "metadata": {},
   "outputs": [
    {
     "data": {
      "text/html": [
       "<div>\n",
       "<style>\n",
       "    .dataframe thead tr:only-child th {\n",
       "        text-align: right;\n",
       "    }\n",
       "\n",
       "    .dataframe thead th {\n",
       "        text-align: left;\n",
       "    }\n",
       "\n",
       "    .dataframe tbody tr th {\n",
       "        vertical-align: top;\n",
       "    }\n",
       "</style>\n",
       "<table border=\"1\" class=\"dataframe\">\n",
       "  <thead>\n",
       "    <tr style=\"text-align: right;\">\n",
       "      <th></th>\n",
       "      <th>date</th>\n",
       "      <th>average temperature</th>\n",
       "      <th>precipitation</th>\n",
       "    </tr>\n",
       "  </thead>\n",
       "  <tbody>\n",
       "    <tr>\n",
       "      <th>0</th>\n",
       "      <td>1-1-2016</td>\n",
       "      <td>38.0</td>\n",
       "      <td>0.00</td>\n",
       "    </tr>\n",
       "    <tr>\n",
       "      <th>1</th>\n",
       "      <td>2-1-2016</td>\n",
       "      <td>36.0</td>\n",
       "      <td>0.00</td>\n",
       "    </tr>\n",
       "    <tr>\n",
       "      <th>2</th>\n",
       "      <td>3-1-2016</td>\n",
       "      <td>40.0</td>\n",
       "      <td>0.00</td>\n",
       "    </tr>\n",
       "    <tr>\n",
       "      <th>3</th>\n",
       "      <td>4-1-2016</td>\n",
       "      <td>25.0</td>\n",
       "      <td>0.00</td>\n",
       "    </tr>\n",
       "    <tr>\n",
       "      <th>4</th>\n",
       "      <td>5-1-2016</td>\n",
       "      <td>20.0</td>\n",
       "      <td>0.00</td>\n",
       "    </tr>\n",
       "  </tbody>\n",
       "</table>\n",
       "</div>"
      ],
      "text/plain": [
       "       date  average temperature precipitation\n",
       "0  1-1-2016                 38.0          0.00\n",
       "1  2-1-2016                 36.0          0.00\n",
       "2  3-1-2016                 40.0          0.00\n",
       "3  4-1-2016                 25.0          0.00\n",
       "4  5-1-2016                 20.0          0.00"
      ]
     },
     "execution_count": 41,
     "metadata": {},
     "output_type": "execute_result"
    }
   ],
   "source": [
    "weather = pd.read_csv('weather_2016.csv')\n",
    "w = weather[['date','average temperature','precipitation']]\n",
    "w.head()"
   ]
  },
  {
   "cell_type": "code",
   "execution_count": 42,
   "metadata": {},
   "outputs": [
    {
     "name": "stderr",
     "output_type": "stream",
     "text": [
      "/Users/Yuwen/anaconda/lib/python3.6/site-packages/ipykernel_launcher.py:1: SettingWithCopyWarning: \n",
      "A value is trying to be set on a copy of a slice from a DataFrame.\n",
      "Try using .loc[row_indexer,col_indexer] = value instead\n",
      "\n",
      "See the caveats in the documentation: http://pandas.pydata.org/pandas-docs/stable/indexing.html#indexing-view-versus-copy\n",
      "  \"\"\"Entry point for launching an IPython kernel.\n"
     ]
    }
   ],
   "source": [
    "w['date'] = pd.to_datetime(w.date)\n",
    "d_train['O_date'] = pd.to_datetime(d_train.O_date)\n",
    "d_test['O_date'] = pd.to_datetime(d_test.O_date)\n",
    "\n",
    "d_train = d_train.merge(w,left_on='O_date',right_on='date',how='left')\n",
    "d_test = d_test.merge(w,left_on='O_date',right_on='date',how='left')\n",
    "d_train.rename(columns={'average temperature':'temperature'},inplace=True)\n",
    "d_test.rename(columns={'average temperature':'temperature'},inplace=True)"
   ]
  },
  {
   "cell_type": "code",
   "execution_count": 43,
   "metadata": {},
   "outputs": [
    {
     "name": "stderr",
     "output_type": "stream",
     "text": [
      "/Users/Yuwen/anaconda/lib/python3.6/site-packages/ipykernel_launcher.py:2: SettingWithCopyWarning: \n",
      "A value is trying to be set on a copy of a slice from a DataFrame\n",
      "\n",
      "See the caveats in the documentation: http://pandas.pydata.org/pandas-docs/stable/indexing.html#indexing-view-versus-copy\n",
      "  \n",
      "/Users/Yuwen/anaconda/lib/python3.6/site-packages/ipykernel_launcher.py:5: SettingWithCopyWarning: \n",
      "A value is trying to be set on a copy of a slice from a DataFrame\n",
      "\n",
      "See the caveats in the documentation: http://pandas.pydata.org/pandas-docs/stable/indexing.html#indexing-view-versus-copy\n",
      "  \"\"\"\n"
     ]
    }
   ],
   "source": [
    "d_train['precipitation'] = pd.to_numeric(d_train['precipitation'],errors='coerce')\n",
    "d_train['precipitation'][d_train['precipitation'].isnull()] = 0\n",
    "\n",
    "d_test['precipitation'] = pd.to_numeric(d_test['precipitation'],errors='coerce')\n",
    "d_test['precipitation'][d_test['precipitation'].isnull()] = 0"
   ]
  },
  {
   "cell_type": "code",
   "execution_count": 44,
   "metadata": {},
   "outputs": [
    {
     "data": {
      "text/html": [
       "<div>\n",
       "<style>\n",
       "    .dataframe thead tr:only-child th {\n",
       "        text-align: right;\n",
       "    }\n",
       "\n",
       "    .dataframe thead th {\n",
       "        text-align: left;\n",
       "    }\n",
       "\n",
       "    .dataframe tbody tr th {\n",
       "        vertical-align: top;\n",
       "    }\n",
       "</style>\n",
       "<table border=\"1\" class=\"dataframe\">\n",
       "  <thead>\n",
       "    <tr style=\"text-align: right;\">\n",
       "      <th></th>\n",
       "      <th>O_date</th>\n",
       "      <th>Event_type</th>\n",
       "      <th>O_hour</th>\n",
       "      <th>Count</th>\n",
       "      <th>date</th>\n",
       "      <th>temperature</th>\n",
       "      <th>precipitation</th>\n",
       "      <th>weekday</th>\n",
       "      <th>O_month</th>\n",
       "      <th>season</th>\n",
       "    </tr>\n",
       "  </thead>\n",
       "  <tbody>\n",
       "    <tr>\n",
       "      <th>0</th>\n",
       "      <td>2016-01-01</td>\n",
       "      <td>no-event</td>\n",
       "      <td>16</td>\n",
       "      <td>1</td>\n",
       "      <td>2016-01-01</td>\n",
       "      <td>38.0</td>\n",
       "      <td>0.0</td>\n",
       "      <td>True</td>\n",
       "      <td>1</td>\n",
       "      <td>1</td>\n",
       "    </tr>\n",
       "    <tr>\n",
       "      <th>1</th>\n",
       "      <td>2016-01-01</td>\n",
       "      <td>no-event</td>\n",
       "      <td>18</td>\n",
       "      <td>1</td>\n",
       "      <td>2016-01-01</td>\n",
       "      <td>38.0</td>\n",
       "      <td>0.0</td>\n",
       "      <td>True</td>\n",
       "      <td>1</td>\n",
       "      <td>1</td>\n",
       "    </tr>\n",
       "    <tr>\n",
       "      <th>2</th>\n",
       "      <td>2016-01-01</td>\n",
       "      <td>no-event</td>\n",
       "      <td>21</td>\n",
       "      <td>1</td>\n",
       "      <td>2016-01-01</td>\n",
       "      <td>38.0</td>\n",
       "      <td>0.0</td>\n",
       "      <td>True</td>\n",
       "      <td>1</td>\n",
       "      <td>1</td>\n",
       "    </tr>\n",
       "    <tr>\n",
       "      <th>3</th>\n",
       "      <td>2016-01-01</td>\n",
       "      <td>no-event</td>\n",
       "      <td>22</td>\n",
       "      <td>1</td>\n",
       "      <td>2016-01-01</td>\n",
       "      <td>38.0</td>\n",
       "      <td>0.0</td>\n",
       "      <td>True</td>\n",
       "      <td>1</td>\n",
       "      <td>1</td>\n",
       "    </tr>\n",
       "    <tr>\n",
       "      <th>4</th>\n",
       "      <td>2016-01-01</td>\n",
       "      <td>no-event</td>\n",
       "      <td>23</td>\n",
       "      <td>1</td>\n",
       "      <td>2016-01-01</td>\n",
       "      <td>38.0</td>\n",
       "      <td>0.0</td>\n",
       "      <td>True</td>\n",
       "      <td>1</td>\n",
       "      <td>1</td>\n",
       "    </tr>\n",
       "  </tbody>\n",
       "</table>\n",
       "</div>"
      ],
      "text/plain": [
       "      O_date Event_type  O_hour  Count       date  temperature  precipitation  \\\n",
       "0 2016-01-01   no-event      16      1 2016-01-01         38.0            0.0   \n",
       "1 2016-01-01   no-event      18      1 2016-01-01         38.0            0.0   \n",
       "2 2016-01-01   no-event      21      1 2016-01-01         38.0            0.0   \n",
       "3 2016-01-01   no-event      22      1 2016-01-01         38.0            0.0   \n",
       "4 2016-01-01   no-event      23      1 2016-01-01         38.0            0.0   \n",
       "\n",
       "   weekday  O_month  season  \n",
       "0     True        1       1  \n",
       "1     True        1       1  \n",
       "2     True        1       1  \n",
       "3     True        1       1  \n",
       "4     True        1       1  "
      ]
     },
     "execution_count": 44,
     "metadata": {},
     "output_type": "execute_result"
    }
   ],
   "source": [
    "# generate weekday, month, season\n",
    "d_train['weekday'] = [i not in [5,6] for i in d_train['O_date'].dt.weekday.values]\n",
    "d_train['O_month'] = pd.to_datetime(d_train['O_date']).dt.month\n",
    "d_train['season'] = d_train['O_month'].map({1: 1,\n",
    "                              2: 1,\n",
    "                              3: 2,\n",
    "                              4: 2,\n",
    "                              5: 2,\n",
    "                              6: 3,\n",
    "                              7: 3,\n",
    "                              8: 3,\n",
    "                              9: 4,\n",
    "                              10: 4,\n",
    "                              11: 4,\n",
    "                              12: 1})\n",
    "d_train.head()"
   ]
  },
  {
   "cell_type": "code",
   "execution_count": 45,
   "metadata": {},
   "outputs": [
    {
     "data": {
      "text/html": [
       "<div>\n",
       "<style>\n",
       "    .dataframe thead tr:only-child th {\n",
       "        text-align: right;\n",
       "    }\n",
       "\n",
       "    .dataframe thead th {\n",
       "        text-align: left;\n",
       "    }\n",
       "\n",
       "    .dataframe tbody tr th {\n",
       "        vertical-align: top;\n",
       "    }\n",
       "</style>\n",
       "<table border=\"1\" class=\"dataframe\">\n",
       "  <thead>\n",
       "    <tr style=\"text-align: right;\">\n",
       "      <th></th>\n",
       "      <th>O_date</th>\n",
       "      <th>Event_type</th>\n",
       "      <th>O_hour</th>\n",
       "      <th>Count</th>\n",
       "      <th>date</th>\n",
       "      <th>temperature</th>\n",
       "      <th>precipitation</th>\n",
       "      <th>weekday</th>\n",
       "      <th>O_month</th>\n",
       "      <th>season</th>\n",
       "    </tr>\n",
       "  </thead>\n",
       "  <tbody>\n",
       "    <tr>\n",
       "      <th>0</th>\n",
       "      <td>2016-01-01</td>\n",
       "      <td>no-event</td>\n",
       "      <td>17</td>\n",
       "      <td>1</td>\n",
       "      <td>2016-01-01</td>\n",
       "      <td>38.0</td>\n",
       "      <td>0.00</td>\n",
       "      <td>True</td>\n",
       "      <td>1</td>\n",
       "      <td>1</td>\n",
       "    </tr>\n",
       "    <tr>\n",
       "      <th>1</th>\n",
       "      <td>2016-01-01</td>\n",
       "      <td>no-event</td>\n",
       "      <td>19</td>\n",
       "      <td>1</td>\n",
       "      <td>2016-01-01</td>\n",
       "      <td>38.0</td>\n",
       "      <td>0.00</td>\n",
       "      <td>True</td>\n",
       "      <td>1</td>\n",
       "      <td>1</td>\n",
       "    </tr>\n",
       "    <tr>\n",
       "      <th>2</th>\n",
       "      <td>2016-01-01</td>\n",
       "      <td>no-event</td>\n",
       "      <td>20</td>\n",
       "      <td>1</td>\n",
       "      <td>2016-01-01</td>\n",
       "      <td>38.0</td>\n",
       "      <td>0.00</td>\n",
       "      <td>True</td>\n",
       "      <td>1</td>\n",
       "      <td>1</td>\n",
       "    </tr>\n",
       "    <tr>\n",
       "      <th>3</th>\n",
       "      <td>2016-01-02</td>\n",
       "      <td>basketball</td>\n",
       "      <td>16</td>\n",
       "      <td>1</td>\n",
       "      <td>2016-01-02</td>\n",
       "      <td>51.5</td>\n",
       "      <td>0.01</td>\n",
       "      <td>False</td>\n",
       "      <td>1</td>\n",
       "      <td>1</td>\n",
       "    </tr>\n",
       "    <tr>\n",
       "      <th>4</th>\n",
       "      <td>2016-01-02</td>\n",
       "      <td>basketball</td>\n",
       "      <td>18</td>\n",
       "      <td>1</td>\n",
       "      <td>2016-01-02</td>\n",
       "      <td>51.5</td>\n",
       "      <td>0.01</td>\n",
       "      <td>False</td>\n",
       "      <td>1</td>\n",
       "      <td>1</td>\n",
       "    </tr>\n",
       "  </tbody>\n",
       "</table>\n",
       "</div>"
      ],
      "text/plain": [
       "      O_date  Event_type  O_hour  Count       date  temperature  \\\n",
       "0 2016-01-01    no-event      17      1 2016-01-01         38.0   \n",
       "1 2016-01-01    no-event      19      1 2016-01-01         38.0   \n",
       "2 2016-01-01    no-event      20      1 2016-01-01         38.0   \n",
       "3 2016-01-02  basketball      16      1 2016-01-02         51.5   \n",
       "4 2016-01-02  basketball      18      1 2016-01-02         51.5   \n",
       "\n",
       "   precipitation  weekday  O_month  season  \n",
       "0           0.00     True        1       1  \n",
       "1           0.00     True        1       1  \n",
       "2           0.00     True        1       1  \n",
       "3           0.01    False        1       1  \n",
       "4           0.01    False        1       1  "
      ]
     },
     "execution_count": 45,
     "metadata": {},
     "output_type": "execute_result"
    }
   ],
   "source": [
    "# generate weekday, month, season\n",
    "d_test['weekday'] = [i not in [5,6] for i in d_test['O_date'].dt.weekday.values]\n",
    "d_test['O_month'] = pd.to_datetime(d_test['O_date']).dt.month\n",
    "d_test['season'] = d_test['O_month'].map({1: 1,\n",
    "                              2: 1,\n",
    "                              3: 2,\n",
    "                              4: 2,\n",
    "                              5: 2,\n",
    "                              6: 3,\n",
    "                              7: 3,\n",
    "                              8: 3,\n",
    "                              9: 4,\n",
    "                              10: 4,\n",
    "                              11: 4,\n",
    "                              12: 1})\n",
    "d_test.head()"
   ]
  },
  {
   "cell_type": "code",
   "execution_count": 46,
   "metadata": {
    "collapsed": true
   },
   "outputs": [],
   "source": [
    "d_train.to_csv('trainset.csv')\n",
    "d_test.to_csv('testset.csv')"
   ]
  },
  {
   "cell_type": "markdown",
   "metadata": {},
   "source": [
    "# Run regression model"
   ]
  },
  {
   "cell_type": "code",
   "execution_count": 47,
   "metadata": {},
   "outputs": [
    {
     "name": "stdout",
     "output_type": "stream",
     "text": [
      "1258\n",
      "1238\n"
     ]
    }
   ],
   "source": [
    "train = train[train['O_hour'] > 18]\n",
    "print(len(train))\n",
    "train = train[train['Event_type'] != 'other']\n",
    "print(len(train))"
   ]
  },
  {
   "cell_type": "code",
   "execution_count": 48,
   "metadata": {},
   "outputs": [
    {
     "name": "stdout",
     "output_type": "stream",
     "text": [
      "537\n",
      "522\n"
     ]
    }
   ],
   "source": [
    "test = test[test['O_hour'] > 18]\n",
    "print(len(test))\n",
    "test = test[test['Event_type'] != 'other']\n",
    "print(len(test))"
   ]
  },
  {
   "cell_type": "code",
   "execution_count": 49,
   "metadata": {},
   "outputs": [
    {
     "data": {
      "text/plain": [
       "(1238, 522)"
      ]
     },
     "execution_count": 49,
     "metadata": {},
     "output_type": "execute_result"
    }
   ],
   "source": [
    "len(train), len(test)"
   ]
  },
  {
   "cell_type": "code",
   "execution_count": 50,
   "metadata": {
    "scrolled": true
   },
   "outputs": [
    {
     "data": {
      "text/html": [
       "<table class=\"simpletable\">\n",
       "<caption>OLS Regression Results</caption>\n",
       "<tr>\n",
       "  <th>Dep. Variable:</th>          <td>Count</td>      <th>  R-squared:         </th> <td>   0.577</td> \n",
       "</tr>\n",
       "<tr>\n",
       "  <th>Model:</th>                   <td>OLS</td>       <th>  Adj. R-squared:    </th> <td>   0.568</td> \n",
       "</tr>\n",
       "<tr>\n",
       "  <th>Method:</th>             <td>Least Squares</td>  <th>  F-statistic:       </th> <td>   66.12</td> \n",
       "</tr>\n",
       "<tr>\n",
       "  <th>Date:</th>             <td>Wed, 13 Dec 2017</td> <th>  Prob (F-statistic):</th> <td>5.83e-206</td>\n",
       "</tr>\n",
       "<tr>\n",
       "  <th>Time:</th>                 <td>13:42:52</td>     <th>  Log-Likelihood:    </th> <td> -4515.2</td> \n",
       "</tr>\n",
       "<tr>\n",
       "  <th>No. Observations:</th>      <td>  1238</td>      <th>  AIC:               </th> <td>   9082.</td> \n",
       "</tr>\n",
       "<tr>\n",
       "  <th>Df Residuals:</th>          <td>  1212</td>      <th>  BIC:               </th> <td>   9216.</td> \n",
       "</tr>\n",
       "<tr>\n",
       "  <th>Df Model:</th>              <td>    25</td>      <th>                     </th>     <td> </td>    \n",
       "</tr>\n",
       "<tr>\n",
       "  <th>Covariance Type:</th>      <td>nonrobust</td>    <th>                     </th>     <td> </td>    \n",
       "</tr>\n",
       "</table>\n",
       "<table class=\"simpletable\">\n",
       "<tr>\n",
       "                                       <td></td>                                         <th>coef</th>     <th>std err</th>      <th>t</th>      <th>P>|t|</th>  <th>[0.025</th>    <th>0.975]</th>  \n",
       "</tr>\n",
       "<tr>\n",
       "  <th>Intercept</th>                                                                  <td>  -30.5540</td> <td>   13.156</td> <td>   -2.322</td> <td> 0.020</td> <td>  -56.366</td> <td>   -4.742</td>\n",
       "</tr>\n",
       "<tr>\n",
       "  <th>weekday[T.True]</th>                                                            <td>    5.0909</td> <td>    0.609</td> <td>    8.362</td> <td> 0.000</td> <td>    3.896</td> <td>    6.285</td>\n",
       "</tr>\n",
       "<tr>\n",
       "  <th>C(Event_type, Treatment(reference='no-event'))[T.basketball]</th>               <td>   33.7526</td> <td>   25.611</td> <td>    1.318</td> <td> 0.188</td> <td>  -16.494</td> <td>   83.999</td>\n",
       "</tr>\n",
       "<tr>\n",
       "  <th>C(Event_type, Treatment(reference='no-event'))[T.boxing]</th>                   <td>  131.0546</td> <td>   67.190</td> <td>    1.950</td> <td> 0.051</td> <td>   -0.768</td> <td>  262.877</td>\n",
       "</tr>\n",
       "<tr>\n",
       "  <th>C(Event_type, Treatment(reference='no-event'))[T.concert]</th>                  <td>  -52.5809</td> <td>   43.461</td> <td>   -1.210</td> <td> 0.227</td> <td> -137.847</td> <td>   32.685</td>\n",
       "</tr>\n",
       "<tr>\n",
       "  <th>C(Event_type, Treatment(reference='no-event'))[T.family]</th>                   <td>   -0.3230</td> <td>    1.422</td> <td>   -0.227</td> <td> 0.820</td> <td>   -3.113</td> <td>    2.467</td>\n",
       "</tr>\n",
       "<tr>\n",
       "  <th>C(Event_type, Treatment(reference='no-event'))[T.hockey]</th>                   <td>   72.2665</td> <td>   37.859</td> <td>    1.909</td> <td> 0.057</td> <td>   -2.010</td> <td>  146.542</td>\n",
       "</tr>\n",
       "<tr>\n",
       "  <th>precipitation</th>                                                              <td>   -2.8840</td> <td>    0.926</td> <td>   -3.113</td> <td> 0.002</td> <td>   -4.701</td> <td>   -1.067</td>\n",
       "</tr>\n",
       "<tr>\n",
       "  <th>temperature</th>                                                                <td>   -0.0074</td> <td>    0.017</td> <td>   -0.430</td> <td> 0.667</td> <td>   -0.041</td> <td>    0.026</td>\n",
       "</tr>\n",
       "<tr>\n",
       "  <th>season</th>                                                                     <td>   52.2398</td> <td>    4.948</td> <td>   10.558</td> <td> 0.000</td> <td>   42.532</td> <td>   61.947</td>\n",
       "</tr>\n",
       "<tr>\n",
       "  <th>season:C(Event_type, Treatment(reference='no-event'))[T.basketball]</th>        <td>  -19.4330</td> <td>    9.633</td> <td>   -2.017</td> <td> 0.044</td> <td>  -38.333</td> <td>   -0.533</td>\n",
       "</tr>\n",
       "<tr>\n",
       "  <th>season:C(Event_type, Treatment(reference='no-event'))[T.boxing]</th>            <td>  -70.2241</td> <td>   28.438</td> <td>   -2.469</td> <td> 0.014</td> <td> -126.018</td> <td>  -14.430</td>\n",
       "</tr>\n",
       "<tr>\n",
       "  <th>season:C(Event_type, Treatment(reference='no-event'))[T.concert]</th>           <td>   14.6598</td> <td>   15.156</td> <td>    0.967</td> <td> 0.334</td> <td>  -15.076</td> <td>   44.396</td>\n",
       "</tr>\n",
       "<tr>\n",
       "  <th>season:C(Event_type, Treatment(reference='no-event'))[T.family]</th>            <td>   -1.5080</td> <td>    5.701</td> <td>   -0.265</td> <td> 0.791</td> <td>  -12.693</td> <td>    9.677</td>\n",
       "</tr>\n",
       "<tr>\n",
       "  <th>season:C(Event_type, Treatment(reference='no-event'))[T.hockey]</th>            <td>  -11.5739</td> <td>   12.001</td> <td>   -0.964</td> <td> 0.335</td> <td>  -35.120</td> <td>   11.972</td>\n",
       "</tr>\n",
       "<tr>\n",
       "  <th>O_hour</th>                                                                     <td>    1.2097</td> <td>    0.626</td> <td>    1.932</td> <td> 0.054</td> <td>   -0.019</td> <td>    2.438</td>\n",
       "</tr>\n",
       "<tr>\n",
       "  <th>O_hour:C(Event_type, Treatment(reference='no-event'))[T.basketball]</th>        <td>   -1.3756</td> <td>    1.227</td> <td>   -1.121</td> <td> 0.262</td> <td>   -3.782</td> <td>    1.031</td>\n",
       "</tr>\n",
       "<tr>\n",
       "  <th>O_hour:C(Event_type, Treatment(reference='no-event'))[T.boxing]</th>            <td>   -5.8264</td> <td>    3.215</td> <td>   -1.813</td> <td> 0.070</td> <td>  -12.133</td> <td>    0.480</td>\n",
       "</tr>\n",
       "<tr>\n",
       "  <th>O_hour:C(Event_type, Treatment(reference='no-event'))[T.concert]</th>           <td>    2.1891</td> <td>    2.076</td> <td>    1.054</td> <td> 0.292</td> <td>   -1.884</td> <td>    6.262</td>\n",
       "</tr>\n",
       "<tr>\n",
       "  <th>O_hour:C(Event_type, Treatment(reference='no-event'))[T.family]</th>            <td>    0.9904</td> <td>    0.674</td> <td>    1.470</td> <td> 0.142</td> <td>   -0.332</td> <td>    2.312</td>\n",
       "</tr>\n",
       "<tr>\n",
       "  <th>O_hour:C(Event_type, Treatment(reference='no-event'))[T.hockey]</th>            <td>   -2.8423</td> <td>    1.817</td> <td>   -1.564</td> <td> 0.118</td> <td>   -6.407</td> <td>    0.722</td>\n",
       "</tr>\n",
       "<tr>\n",
       "  <th>season:O_hour</th>                                                              <td>   -2.1335</td> <td>    0.236</td> <td>   -9.042</td> <td> 0.000</td> <td>   -2.596</td> <td>   -1.671</td>\n",
       "</tr>\n",
       "<tr>\n",
       "  <th>season:O_hour:C(Event_type, Treatment(reference='no-event'))[T.basketball]</th> <td>    0.8599</td> <td>    0.459</td> <td>    1.873</td> <td> 0.061</td> <td>   -0.041</td> <td>    1.761</td>\n",
       "</tr>\n",
       "<tr>\n",
       "  <th>season:O_hour:C(Event_type, Treatment(reference='no-event'))[T.boxing]</th>     <td>    3.1822</td> <td>    1.350</td> <td>    2.357</td> <td> 0.019</td> <td>    0.533</td> <td>    5.831</td>\n",
       "</tr>\n",
       "<tr>\n",
       "  <th>season:O_hour:C(Event_type, Treatment(reference='no-event'))[T.concert]</th>    <td>   -0.5890</td> <td>    0.725</td> <td>   -0.813</td> <td> 0.417</td> <td>   -2.011</td> <td>    0.833</td>\n",
       "</tr>\n",
       "<tr>\n",
       "  <th>season:O_hour:C(Event_type, Treatment(reference='no-event'))[T.family]</th>     <td>   -0.1418</td> <td>    0.304</td> <td>   -0.466</td> <td> 0.641</td> <td>   -0.738</td> <td>    0.455</td>\n",
       "</tr>\n",
       "<tr>\n",
       "  <th>season:O_hour:C(Event_type, Treatment(reference='no-event'))[T.hockey]</th>     <td>    0.4689</td> <td>    0.573</td> <td>    0.818</td> <td> 0.413</td> <td>   -0.655</td> <td>    1.593</td>\n",
       "</tr>\n",
       "</table>\n",
       "<table class=\"simpletable\">\n",
       "<tr>\n",
       "  <th>Omnibus:</th>       <td>171.471</td> <th>  Durbin-Watson:     </th> <td>   2.020</td>\n",
       "</tr>\n",
       "<tr>\n",
       "  <th>Prob(Omnibus):</th> <td> 0.000</td>  <th>  Jarque-Bera (JB):  </th> <td> 373.233</td>\n",
       "</tr>\n",
       "<tr>\n",
       "  <th>Skew:</th>          <td> 0.802</td>  <th>  Prob(JB):          </th> <td>8.99e-82</td>\n",
       "</tr>\n",
       "<tr>\n",
       "  <th>Kurtosis:</th>      <td> 5.159</td>  <th>  Cond. No.          </th> <td>1.04e+16</td>\n",
       "</tr>\n",
       "</table>"
      ],
      "text/plain": [
       "<class 'statsmodels.iolib.summary.Summary'>\n",
       "\"\"\"\n",
       "                            OLS Regression Results                            \n",
       "==============================================================================\n",
       "Dep. Variable:                  Count   R-squared:                       0.577\n",
       "Model:                            OLS   Adj. R-squared:                  0.568\n",
       "Method:                 Least Squares   F-statistic:                     66.12\n",
       "Date:                Wed, 13 Dec 2017   Prob (F-statistic):          5.83e-206\n",
       "Time:                        13:42:52   Log-Likelihood:                -4515.2\n",
       "No. Observations:                1238   AIC:                             9082.\n",
       "Df Residuals:                    1212   BIC:                             9216.\n",
       "Df Model:                          25                                         \n",
       "Covariance Type:            nonrobust                                         \n",
       "==============================================================================================================================================\n",
       "                                                                                 coef    std err          t      P>|t|      [0.025      0.975]\n",
       "----------------------------------------------------------------------------------------------------------------------------------------------\n",
       "Intercept                                                                    -30.5540     13.156     -2.322      0.020     -56.366      -4.742\n",
       "weekday[T.True]                                                                5.0909      0.609      8.362      0.000       3.896       6.285\n",
       "C(Event_type, Treatment(reference='no-event'))[T.basketball]                  33.7526     25.611      1.318      0.188     -16.494      83.999\n",
       "C(Event_type, Treatment(reference='no-event'))[T.boxing]                     131.0546     67.190      1.950      0.051      -0.768     262.877\n",
       "C(Event_type, Treatment(reference='no-event'))[T.concert]                    -52.5809     43.461     -1.210      0.227    -137.847      32.685\n",
       "C(Event_type, Treatment(reference='no-event'))[T.family]                      -0.3230      1.422     -0.227      0.820      -3.113       2.467\n",
       "C(Event_type, Treatment(reference='no-event'))[T.hockey]                      72.2665     37.859      1.909      0.057      -2.010     146.542\n",
       "precipitation                                                                 -2.8840      0.926     -3.113      0.002      -4.701      -1.067\n",
       "temperature                                                                   -0.0074      0.017     -0.430      0.667      -0.041       0.026\n",
       "season                                                                        52.2398      4.948     10.558      0.000      42.532      61.947\n",
       "season:C(Event_type, Treatment(reference='no-event'))[T.basketball]          -19.4330      9.633     -2.017      0.044     -38.333      -0.533\n",
       "season:C(Event_type, Treatment(reference='no-event'))[T.boxing]              -70.2241     28.438     -2.469      0.014    -126.018     -14.430\n",
       "season:C(Event_type, Treatment(reference='no-event'))[T.concert]              14.6598     15.156      0.967      0.334     -15.076      44.396\n",
       "season:C(Event_type, Treatment(reference='no-event'))[T.family]               -1.5080      5.701     -0.265      0.791     -12.693       9.677\n",
       "season:C(Event_type, Treatment(reference='no-event'))[T.hockey]              -11.5739     12.001     -0.964      0.335     -35.120      11.972\n",
       "O_hour                                                                         1.2097      0.626      1.932      0.054      -0.019       2.438\n",
       "O_hour:C(Event_type, Treatment(reference='no-event'))[T.basketball]           -1.3756      1.227     -1.121      0.262      -3.782       1.031\n",
       "O_hour:C(Event_type, Treatment(reference='no-event'))[T.boxing]               -5.8264      3.215     -1.813      0.070     -12.133       0.480\n",
       "O_hour:C(Event_type, Treatment(reference='no-event'))[T.concert]               2.1891      2.076      1.054      0.292      -1.884       6.262\n",
       "O_hour:C(Event_type, Treatment(reference='no-event'))[T.family]                0.9904      0.674      1.470      0.142      -0.332       2.312\n",
       "O_hour:C(Event_type, Treatment(reference='no-event'))[T.hockey]               -2.8423      1.817     -1.564      0.118      -6.407       0.722\n",
       "season:O_hour                                                                 -2.1335      0.236     -9.042      0.000      -2.596      -1.671\n",
       "season:O_hour:C(Event_type, Treatment(reference='no-event'))[T.basketball]     0.8599      0.459      1.873      0.061      -0.041       1.761\n",
       "season:O_hour:C(Event_type, Treatment(reference='no-event'))[T.boxing]         3.1822      1.350      2.357      0.019       0.533       5.831\n",
       "season:O_hour:C(Event_type, Treatment(reference='no-event'))[T.concert]       -0.5890      0.725     -0.813      0.417      -2.011       0.833\n",
       "season:O_hour:C(Event_type, Treatment(reference='no-event'))[T.family]        -0.1418      0.304     -0.466      0.641      -0.738       0.455\n",
       "season:O_hour:C(Event_type, Treatment(reference='no-event'))[T.hockey]         0.4689      0.573      0.818      0.413      -0.655       1.593\n",
       "==============================================================================\n",
       "Omnibus:                      171.471   Durbin-Watson:                   2.020\n",
       "Prob(Omnibus):                  0.000   Jarque-Bera (JB):              373.233\n",
       "Skew:                           0.802   Prob(JB):                     8.99e-82\n",
       "Kurtosis:                       5.159   Cond. No.                     1.04e+16\n",
       "==============================================================================\n",
       "\n",
       "Warnings:\n",
       "[1] Standard Errors assume that the covariance matrix of the errors is correctly specified.\n",
       "[2] The smallest eigenvalue is 8.24e-26. This might indicate that there are\n",
       "strong multicollinearity problems or that the design matrix is singular.\n",
       "\"\"\""
      ]
     },
     "execution_count": 50,
     "metadata": {},
     "output_type": "execute_result"
    }
   ],
   "source": [
    "lm_train = smf.ols(formula=\"Count ~ weekday + precipitation + temperature + season * O_hour * C(Event_type, Treatment(reference='no-event'))\",data=train).fit()\n",
    "lm_train.summary()"
   ]
  },
  {
   "cell_type": "code",
   "execution_count": 51,
   "metadata": {},
   "outputs": [
    {
     "data": {
      "text/plain": [
       "Index(['Unnamed: 0', 'O_date', 'Event_type', 'O_hour', 'Count', 'date',\n",
       "       'temperature', 'precipitation', 'weekday', 'O_month', 'season'],\n",
       "      dtype='object')"
      ]
     },
     "execution_count": 51,
     "metadata": {},
     "output_type": "execute_result"
    }
   ],
   "source": [
    "test.keys()"
   ]
  },
  {
   "cell_type": "code",
   "execution_count": 52,
   "metadata": {},
   "outputs": [],
   "source": [
    "pre = lm_train.predict(test[[\"weekday\",\"precipitation\",\"temperature\",\"season\",\"O_hour\",\"Event_type\"]])"
   ]
  },
  {
   "cell_type": "code",
   "execution_count": 54,
   "metadata": {},
   "outputs": [
    {
     "data": {
      "text/plain": [
       "[<matplotlib.lines.Line2D at 0x10f2a87b8>]"
      ]
     },
     "execution_count": 54,
     "metadata": {},
     "output_type": "execute_result"
    },
    {
     "data": {
      "image/png": "[encoded data removed]",
      "text/plain": [
       "<matplotlib.figure.Figure at 0x10f2b8e10>"
      ]
     },
     "metadata": {},
     "output_type": "display_data"
    }
   ],
   "source": [
    "x = range(len(test))\n",
    "pl.figure(figsize=(20,8))\n",
    "pl.plot(x,pre,'.')\n",
    "pl.plot(x,test.Count,'.')"
   ]
  },
  {
   "cell_type": "code",
   "execution_count": 55,
   "metadata": {
    "collapsed": true
   },
   "outputs": [],
   "source": [
    "# For displaying R^2 and linear model summary\n",
    "def modelEval(lm, key = 'Count'):\n",
    "    lmy = lm.predict(test[[\"weekday\",\"precipitation\",\"temperature\",\"season\",\"O_hour\",\"Event_type\"]])\n",
    "    y_err = (lmy - test[key]).reshape(test[key].shape[0],)\n",
    "    y_norm = (test[key]-np.mean(test[key])).reshape(test[key].shape[0],)\n",
    "    \n",
    "    #y_err = (predicted - test_y).reshape(test_y.shape[0],)\n",
    "    #y_norm = (test_y-np.mean(test_y)).reshape(test_y.shape[0],)\n",
    "    #r2 = 1-y_err.dot(y_err)/y_norm.dot(y_norm)\n",
    "    return 1-y_err.dot(y_err)/y_norm.dot(y_norm)  # R2 w.r.t. test set"
   ]
  },
  {
   "cell_type": "code",
   "execution_count": 57,
   "metadata": {},
   "outputs": [
    {
     "name": "stdout",
     "output_type": "stream",
     "text": [
      "In sample R-squared: 0.576950\n",
      "Out of sample R-squared: 0.611713\n",
      "Fitted coefficients:\n",
      "Intercept                                                                     -30.553982\n",
      "weekday[T.True]                                                                 5.090870\n",
      "C(Event_type, Treatment(reference='no-event'))[T.basketball]                   33.752583\n",
      "C(Event_type, Treatment(reference='no-event'))[T.boxing]                      131.054608\n",
      "C(Event_type, Treatment(reference='no-event'))[T.concert]                     -52.580947\n",
      "C(Event_type, Treatment(reference='no-event'))[T.family]                       -0.323011\n",
      "C(Event_type, Treatment(reference='no-event'))[T.hockey]                       72.266471\n",
      "precipitation                                                                  -2.883957\n",
      "temperature                                                                    -0.007381\n",
      "season                                                                         52.239762\n",
      "season:C(Event_type, Treatment(reference='no-event'))[T.basketball]           -19.432997\n",
      "season:C(Event_type, Treatment(reference='no-event'))[T.boxing]               -70.224134\n",
      "season:C(Event_type, Treatment(reference='no-event'))[T.concert]               14.659777\n",
      "season:C(Event_type, Treatment(reference='no-event'))[T.family]                -1.508004\n",
      "season:C(Event_type, Treatment(reference='no-event'))[T.hockey]               -11.573887\n",
      "O_hour                                                                          1.209673\n",
      "O_hour:C(Event_type, Treatment(reference='no-event'))[T.basketball]            -1.375557\n",
      "O_hour:C(Event_type, Treatment(reference='no-event'))[T.boxing]                -5.826358\n",
      "O_hour:C(Event_type, Treatment(reference='no-event'))[T.concert]                2.189094\n",
      "O_hour:C(Event_type, Treatment(reference='no-event'))[T.family]                 0.990368\n",
      "O_hour:C(Event_type, Treatment(reference='no-event'))[T.hockey]                -2.842295\n",
      "season:O_hour                                                                  -2.133492\n",
      "season:O_hour:C(Event_type, Treatment(reference='no-event'))[T.basketball]      0.859925\n",
      "season:O_hour:C(Event_type, Treatment(reference='no-event'))[T.boxing]          3.182158\n",
      "season:O_hour:C(Event_type, Treatment(reference='no-event'))[T.concert]        -0.588962\n",
      "season:O_hour:C(Event_type, Treatment(reference='no-event'))[T.family]         -0.141758\n",
      "season:O_hour:C(Event_type, Treatment(reference='no-event'))[T.hockey]          0.468946\n",
      "dtype: float64\n"
     ]
    },
    {
     "name": "stderr",
     "output_type": "stream",
     "text": [
      "/Users/Yuwen/anaconda/lib/python3.6/site-packages/ipykernel_launcher.py:4: FutureWarning: reshape is deprecated and will raise in a subsequent release. Please use .values.reshape(...) instead\n",
      "  after removing the cwd from sys.path.\n",
      "/Users/Yuwen/anaconda/lib/python3.6/site-packages/ipykernel_launcher.py:5: FutureWarning: reshape is deprecated and will raise in a subsequent release. Please use .values.reshape(...) instead\n",
      "  \"\"\"\n"
     ]
    }
   ],
   "source": [
    "#result = smf.ols(formula = 'Y ~ '+ '+'.join(data3.columns[:-1]), data = train).fit()\n",
    "print('In sample R-squared: %f'%lm_train.rsquared)\n",
    "print('Out of sample R-squared: %f'%modelEval(lm_train))\n",
    "print('Fitted coefficients:')\n",
    "print(lm_train.params)"
   ]
  },
  {
   "cell_type": "code",
   "execution_count": null,
   "metadata": {
    "collapsed": true
   },
   "outputs": [],
   "source": []
  }
 ],
 "metadata": {
  "kernelspec": {
   "display_name": "Python 3",
   "language": "python",
   "name": "python3"
  },
  "language_info": {
   "codemirror_mode": {
    "name": "ipython",
    "version": 3
   },
   "file_extension": ".py",
   "mimetype": "text/x-python",
   "name": "python",
   "nbconvert_exporter": "python",
   "pygments_lexer": "ipython3",
   "version": "3.6.1"
  }
 },
 "nbformat": 4,
 "nbformat_minor": 2
}
