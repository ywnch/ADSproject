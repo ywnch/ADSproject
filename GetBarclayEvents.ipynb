{
 "cells": [
  {
   "cell_type": "code",
   "execution_count": 33,
   "metadata": {},
   "outputs": [],
   "source": [
    "import requests\n",
    "import pandas as pd\n",
    "import facebook"
   ]
  },
  {
   "cell_type": "code",
   "execution_count": 29,
   "metadata": {},
   "outputs": [],
   "source": [
    "results = []"
   ]
  },
  {
   "cell_type": "code",
   "execution_count": 30,
   "metadata": {},
   "outputs": [],
   "source": [
    "def some_action(event,results):\n",
    "    \"\"\" Here you might want to do something with each post. E.g. grab the\n",
    "    post's message (post['message']) or the post's picture (post['picture']).\n",
    "    In this implementation we just print the post's created time.\n",
    "    \"\"\"\n",
    "    #print(event['start_time'])\n",
    "    date = event['start_time'].split('-')\n",
    "    if date[0] == '2016':\n",
    "        results.append([event['id'],event['name'],event['start_time']])\n",
    "        #print(event['id'])\n",
    "\n",
    "\n",
    "# You'll need an access token here to do anything.  You can get a temporary one\n",
    "# here: https://developers.facebook.com/tools/explorer/\n",
    "access_token = 'EAACEdEose0cBAH54nQgiqxqSHLPmFH8ialDzTVe18\\\n",
    "QnlZCIM4hyYZCoKuGBSWJ1ZB4BlAcp02egZALQYPtzlSCsy3nv0QtmxqjwZ\\\n",
    "BYEV2oqP3G82HR8uKbMI9z73pTQlRspSoIOjMHpU1U9Jl9z3OR0NW6AV0mrROZBaMMG8aCXIZCr7Q1iA8dYqCpdnrnHkvYZD'\n",
    "# Look at Bill Gates's profile for this example by using his Facebook id.\n",
    "user = 'barclayscenter'\n",
    "\n",
    "graph = facebook.GraphAPI(access_token)\n",
    "profile = graph.get_object(user)\n",
    "events = graph.get_connections(profile['id'], 'events')\n",
    "\n",
    "# Wrap this block in a while loop so we can keep paginating requests until\n",
    "# finished.\n",
    "while True:\n",
    "    try:\n",
    "        # Perform some action on each post in the collection we receive from\n",
    "        # Facebook.\n",
    "        [some_action(event,results) for event in events['data']]\n",
    "        # Attempt to make a request to the next page of data, if it exists.\n",
    "        events = requests.get(events['paging']['next']).json()\n",
    "    except KeyError:\n",
    "        # When there are no more pages (['paging']['next']), break from the\n",
    "        # loop and end the script.\n",
    "        break"
   ]
  },
  {
   "cell_type": "code",
   "execution_count": 38,
   "metadata": {},
   "outputs": [
    {
     "data": {
      "text/html": [
       "<div>\n",
       "<style>\n",
       "    .dataframe thead tr:only-child th {\n",
       "        text-align: right;\n",
       "    }\n",
       "\n",
       "    .dataframe thead th {\n",
       "        text-align: left;\n",
       "    }\n",
       "\n",
       "    .dataframe tbody tr th {\n",
       "        vertical-align: top;\n",
       "    }\n",
       "</style>\n",
       "<table border=\"1\" class=\"dataframe\">\n",
       "  <thead>\n",
       "    <tr style=\"text-align: right;\">\n",
       "      <th></th>\n",
       "      <th>EventID</th>\n",
       "      <th>Name</th>\n",
       "      <th>Start_Time</th>\n",
       "    </tr>\n",
       "  </thead>\n",
       "  <tbody>\n",
       "    <tr>\n",
       "      <th>0</th>\n",
       "      <td>907621312715743</td>\n",
       "      <td>WWE Live Holiday Tour</td>\n",
       "      <td>2016-12-28T19:30:00-0500</td>\n",
       "    </tr>\n",
       "    <tr>\n",
       "      <th>1</th>\n",
       "      <td>1116120618427406</td>\n",
       "      <td>New York Islanders V Washington Capitals</td>\n",
       "      <td>2016-12-27T19:00:00-0500</td>\n",
       "    </tr>\n",
       "    <tr>\n",
       "      <th>2</th>\n",
       "      <td>1185458834828646</td>\n",
       "      <td>Brooklyn Nets v. Charlotte Hornets (Winter Sca...</td>\n",
       "      <td>2016-12-26T19:30:00-0500</td>\n",
       "    </tr>\n",
       "    <tr>\n",
       "      <th>3</th>\n",
       "      <td>298254823904188</td>\n",
       "      <td>Long Island Nets vs. Westchester Knicks</td>\n",
       "      <td>2016-12-26T13:30:00-0500</td>\n",
       "    </tr>\n",
       "    <tr>\n",
       "      <th>4</th>\n",
       "      <td>1580711665559981</td>\n",
       "      <td>New York Islanders V Buffalo Sabres</td>\n",
       "      <td>2016-12-23T19:00:00-0500</td>\n",
       "    </tr>\n",
       "  </tbody>\n",
       "</table>\n",
       "</div>"
      ],
      "text/plain": [
       "            EventID                                               Name  \\\n",
       "0   907621312715743                              WWE Live Holiday Tour   \n",
       "1  1116120618427406           New York Islanders V Washington Capitals   \n",
       "2  1185458834828646  Brooklyn Nets v. Charlotte Hornets (Winter Sca...   \n",
       "3   298254823904188            Long Island Nets vs. Westchester Knicks   \n",
       "4  1580711665559981                New York Islanders V Buffalo Sabres   \n",
       "\n",
       "                 Start_Time  \n",
       "0  2016-12-28T19:30:00-0500  \n",
       "1  2016-12-27T19:00:00-0500  \n",
       "2  2016-12-26T19:30:00-0500  \n",
       "3  2016-12-26T13:30:00-0500  \n",
       "4  2016-12-23T19:00:00-0500  "
      ]
     },
     "execution_count": 38,
     "metadata": {},
     "output_type": "execute_result"
    }
   ],
   "source": [
    "df = pd.DataFrame(results)\n",
    "df.columns = ['EventID','Name','Start_Time']\n",
    "df.head()"
   ]
  },
  {
   "cell_type": "code",
   "execution_count": 39,
   "metadata": {},
   "outputs": [
    {
     "data": {
      "text/plain": [
       "170"
      ]
     },
     "execution_count": 39,
     "metadata": {},
     "output_type": "execute_result"
    }
   ],
   "source": [
    "len(df)"
   ]
  },
  {
   "cell_type": "code",
   "execution_count": 40,
   "metadata": {},
   "outputs": [],
   "source": [
    "df.to_csv('Events2016.csv')"
   ]
  },
  {
   "cell_type": "code",
   "execution_count": null,
   "metadata": {},
   "outputs": [],
   "source": []
  }
 ],
 "metadata": {
  "kernelspec": {
   "display_name": "Python 3",
   "language": "python",
   "name": "python3"
  },
  "language_info": {
   "codemirror_mode": {
    "name": "ipython",
    "version": 3
   },
   "file_extension": ".py",
   "mimetype": "text/x-python",
   "name": "python",
   "nbconvert_exporter": "python",
   "pygments_lexer": "ipython3",
   "version": "3.6.2"
  }
 },
 "nbformat": 4,
 "nbformat_minor": 2
}
